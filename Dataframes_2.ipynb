{
 "cells": [
  {
   "cell_type": "code",
   "execution_count": 1,
   "metadata": {
    "collapsed": true
   },
   "outputs": [],
   "source": [
    "import pandas as pd"
   ]
  },
  {
   "cell_type": "code",
   "execution_count": 2,
   "metadata": {},
   "outputs": [],
   "source": [
    "df = pd.read_csv('data/employees.csv')"
   ]
  },
  {
   "cell_type": "code",
   "execution_count": 3,
   "metadata": {},
   "outputs": [
    {
     "name": "stdout",
     "output_type": "stream",
     "text": [
      "<class 'pandas.core.frame.DataFrame'>\nRangeIndex: 1000 entries, 0 to 999\nData columns (total 8 columns):\nFirst Name           933 non-null object\nGender               855 non-null object\nStart Date           1000 non-null object\nLast Login Time      1000 non-null object\nSalary               1000 non-null int64\nBonus %              1000 non-null float64\nSenior Management    933 non-null object\nTeam                 957 non-null object\ndtypes: float64(1), int64(1), object(6)\nmemory usage: 62.6+ KB\n"
     ]
    }
   ],
   "source": [
    "df.info()"
   ]
  },
  {
   "cell_type": "code",
   "execution_count": 4,
   "metadata": {},
   "outputs": [
    {
     "data": {
      "text/plain": [
       "0     8/6/1993\n1    3/31/1996\n2    4/23/1993\nName: Start Date, dtype: object"
      ]
     },
     "execution_count": 4,
     "metadata": {},
     "output_type": "execute_result"
    }
   ],
   "source": [
    "df['Start Date'].head(3)"
   ]
  },
  {
   "cell_type": "code",
   "execution_count": 7,
   "metadata": {},
   "outputs": [],
   "source": [
    "df['Start Date'] = pd.to_datetime(df['Start Date'])"
   ]
  },
  {
   "cell_type": "code",
   "execution_count": 8,
   "metadata": {},
   "outputs": [],
   "source": [
    "df['Last Login Time'] = pd.to_datetime(df['Last Login Time'])"
   ]
  },
  {
   "cell_type": "code",
   "execution_count": 9,
   "metadata": {},
   "outputs": [
    {
     "name": "stdout",
     "output_type": "stream",
     "text": [
      "0   2020-02-25 12:42:00\n1   2020-02-25 06:53:00\n2   2020-02-25 11:17:00\nName: Last Login Time, dtype: datetime64[ns]\n"
     ]
    }
   ],
   "source": [
    "print(df['Last Login Time'].head(3))"
   ]
  },
  {
   "cell_type": "code",
   "execution_count": 10,
   "metadata": {},
   "outputs": [],
   "source": [
    "df['Senior Management'] = df['Senior Management'].astype('bool')"
   ]
  },
  {
   "cell_type": "code",
   "execution_count": 12,
   "metadata": {},
   "outputs": [],
   "source": [
    "df = pd.read_csv('data/employees.csv')\n",
    "df['Start Date'] = pd.to_datetime(df['Start Date'])\n",
    "df['Last Login Time'] = pd.to_datetime(df['Last Login Time'])\n",
    "df['Senior Management'] = df['Senior Management'].astype('bool')\n",
    "df['Gender'] = df['Gender'].astype('category') # this saves memory space"
   ]
  },
  {
   "cell_type": "code",
   "execution_count": 14,
   "metadata": {},
   "outputs": [
    {
     "name": "stdout",
     "output_type": "stream",
     "text": [
      "  First Name  Gender Start Date     Last Login Time  Salary  Bonus %  \\\n0    Douglas    Male 1993-08-06 2020-02-25 12:42:00   97308    6.945   \n1     Thomas    Male 1996-03-31 2020-02-25 06:53:00   61933    4.170   \n2      Maria  Female 1993-04-23 2020-02-25 11:17:00  130590   11.858   \n\n   Senior Management       Team  \n0               True  Marketing  \n1               True        NaN  \n2              False    Finance  \n"
     ]
    }
   ],
   "source": [
    "print(df.head(3))"
   ]
  },
  {
   "cell_type": "code",
   "execution_count": 30,
   "metadata": {},
   "outputs": [
    {
     "name": "stdout",
     "output_type": "stream",
     "text": [
      "  First Name Gender Start Date     Last Login Time  Salary  Bonus %  \\\n0    Douglas   Male 1993-08-06 2020-02-25 12:42:00   97308    6.945   \n1     Thomas   Male 1996-03-31 2020-02-25 06:53:00   61933    4.170   \n3      Jerry   Male 2005-03-04 2020-02-25 13:00:00  138705    9.340   \n4      Larry   Male 1998-01-24 2020-02-25 16:47:00  101004    1.389   \n5     Dennis   Male 1987-04-18 2020-02-25 01:35:00  115163   10.125   \n\n   Senior Management             Team  \n0               True        Marketing  \n1               True              NaN  \n3               True          Finance  \n4               True  Client Services  \n5              False            Legal  \n"
     ]
    }
   ],
   "source": [
    "print(df[df['Gender'] == 'Male'].head(5)) # this will extract only the roles with male as gender"
   ]
  },
  {
   "cell_type": "code",
   "execution_count": 19,
   "metadata": {},
   "outputs": [
    {
     "name": "stdout",
     "output_type": "stream",
     "text": [
      "  First Name  Gender Start Date     Last Login Time  Salary  Bonus %  \\\n2      Maria  Female 1993-04-23 2020-02-25 11:17:00  130590   11.858   \n3      Jerry    Male 2005-03-04 2020-02-25 13:00:00  138705    9.340   \n7        NaN  Female 2015-07-20 2020-02-25 10:43:00   45906   11.598   \n\n   Senior Management     Team  \n2              False  Finance  \n3               True  Finance  \n7               True  Finance  \n"
     ]
    }
   ],
   "source": [
    "mask = df['Team'] == 'Finance'\n",
    "print(df[mask].head(3))"
   ]
  },
  {
   "cell_type": "code",
   "execution_count": 31,
   "metadata": {},
   "outputs": [
    {
     "name": "stdout",
     "output_type": "stream",
     "text": [
      "  First Name Gender Start Date     Last Login Time  Salary  Bonus %  \\\n0    Douglas   Male 1993-08-06 2020-02-25 12:42:00   97308    6.945   \n1     Thomas   Male 1996-03-31 2020-02-25 06:53:00   61933    4.170   \n3      Jerry   Male 2005-03-04 2020-02-25 13:00:00  138705    9.340   \n\n   Senior Management       Team  \n0               True  Marketing  \n1               True        NaN  \n3               True    Finance  \n"
     ]
    }
   ],
   "source": [
    "print(df[df['Senior Management']].head(3)) # since senior management is already a boolean series it will \n",
    "# automatically extract the series with this syntax"
   ]
  },
  {
   "cell_type": "code",
   "execution_count": 32,
   "metadata": {},
   "outputs": [
    {
     "name": "stdout",
     "output_type": "stream",
     "text": [
      "  First Name  Gender Start Date     Last Login Time  Salary  Bonus %  \\\n2      Maria  Female 1993-04-23 2020-02-25 11:17:00  130590   11.858   \n3      Jerry    Male 2005-03-04 2020-02-25 13:00:00  138705    9.340   \n4      Larry    Male 1998-01-24 2020-02-25 16:47:00  101004    1.389   \n5     Dennis    Male 1987-04-18 2020-02-25 01:35:00  115163   10.125   \n9    Frances  Female 2002-08-08 2020-02-25 06:51:00  139852    7.524   \n\n   Senior Management                  Team  \n2              False               Finance  \n3               True               Finance  \n4               True       Client Services  \n5              False                 Legal  \n9               True  Business Development  \n"
     ]
    }
   ],
   "source": [
    "print(df[df['Salary'] > 100000].head(5))"
   ]
  },
  {
   "cell_type": "code",
   "execution_count": 34,
   "metadata": {},
   "outputs": [
    {
     "name": "stdout",
     "output_type": "stream",
     "text": [
      "   First Name  Gender Start Date     Last Login Time  Salary  Bonus %  \\\n10     Louise  Female 1980-08-12 2020-02-25 09:01:00   63241   15.132   \n12    Brandon    Male 1980-12-01 2020-02-25 01:08:00  112807   17.492   \n18      Diana  Female 1981-10-23 2020-02-25 10:27:00  132940   19.082   \n28      Terry    Male 1981-11-27 2020-02-25 18:30:00  124008   13.464   \n37      Linda  Female 1981-10-19 2020-02-25 20:49:00   57427    9.557   \n\n    Senior Management             Team  \n10               True              NaN  \n12               True  Human Resources  \n18              False  Client Services  \n28               True  Client Services  \n37               True  Client Services  \n"
     ]
    }
   ],
   "source": [
    "mask = df['Start Date'] <= '1985-01-01'\n",
    "print(df[mask].head(5))"
   ]
  },
  {
   "cell_type": "code",
   "execution_count": 36,
   "metadata": {},
   "outputs": [
    {
     "name": "stdout",
     "output_type": "stream",
     "text": [
      "  First Name  Gender Start Date     Last Login Time  Salary  Bonus %  \\\n0    Douglas    Male 1993-08-06 2020-02-25 12:42:00   97308    6.945   \n1     Thomas    Male 1996-03-31 2020-02-25 06:53:00   61933    4.170   \n2      Maria  Female 1993-04-23 2020-02-25 11:17:00  130590   11.858   \n3      Jerry    Male 2005-03-04 2020-02-25 13:00:00  138705    9.340   \n4      Larry    Male 1998-01-24 2020-02-25 16:47:00  101004    1.389   \n\n   Senior Management             Team  \n0               True        Marketing  \n1               True              NaN  \n2              False          Finance  \n3               True          Finance  \n4               True  Client Services  \n"
     ]
    }
   ],
   "source": [
    "df = pd.read_csv('data/employees.csv', parse_dates=['Start Date', 'Last Login Time'])\n",
    "df['Senior Management'] = df['Senior Management'].astype('bool')\n",
    "df['Gender'] = df['Gender'].astype('category') # this saves memory space\n",
    "print(df.head(5))"
   ]
  },
  {
   "cell_type": "code",
   "execution_count": 43,
   "metadata": {},
   "outputs": [
    {
     "name": "stdout",
     "output_type": "stream",
     "text": [
      "   First Name Gender Start Date     Last Login Time  Salary  Bonus %  \\\n0     Douglas   Male 1993-08-06 2020-02-25 12:42:00   97308    6.945   \n21    Matthew   Male 1995-09-05 2020-02-25 02:12:00  100612   13.645   \n26      Craig   Male 2000-02-27 2020-02-25 07:45:00   37598    7.757   \n74     Thomas   Male 1995-06-04 2020-02-25 14:24:00   62096   17.029   \n77    Charles   Male 2004-09-14 2020-02-25 20:13:00  107391    1.260   \n\n    Senior Management       Team  \n0                True  Marketing  \n21              False  Marketing  \n26               True  Marketing  \n74              False  Marketing  \n77               True  Marketing  \n"
     ]
    }
   ],
   "source": [
    "mask1 = df['Gender'] == 'Male'\n",
    "mask2 = df['Team'] == 'Marketing'\n",
    "print(df[mask1 & mask2].head(5))"
   ]
  },
  {
   "cell_type": "code",
   "execution_count": 44,
   "metadata": {},
   "outputs": [
    {
     "name": "stdout",
     "output_type": "stream",
     "text": [
      "    First Name  Gender Start Date     Last Login Time  Salary  Bonus %  \\\n15     Lillian  Female 2016-06-05 2020-02-25 06:09:00   59414    1.256   \n98        Tina  Female 2016-06-16 2020-02-25 19:47:00  100705   16.961   \n451      Terry     NaN 2016-07-15 2020-02-25 00:29:00  140002   19.490   \n\n     Senior Management       Team  \n15               False    Product  \n98                True  Marketing  \n451               True  Marketing  \n"
     ]
    }
   ],
   "source": [
    "mask1 = ['First Name'] == 'Robert'\n",
    "mask2 = df['Team'] == 'Client Services'\n",
    "mask3 = df['Start Date'] > '2016-06-01' # you must use these boolean series to filter these \n",
    "# rows from the dataframe\n",
    "\n",
    "print(df[(mask1 & mask2) | mask3].head(5))"
   ]
  },
  {
   "cell_type": "code",
   "execution_count": 45,
   "metadata": {},
   "outputs": [
    {
     "name": "stdout",
     "output_type": "stream",
     "text": [
      "  First Name  Gender Start Date     Last Login Time  Salary  Bonus %  \\\n0    Douglas    Male 1993-08-06 2020-02-25 12:42:00   97308    6.945   \n1     Thomas    Male 1996-03-31 2020-02-25 06:53:00   61933    4.170   \n2      Maria  Female 1993-04-23 2020-02-25 11:17:00  130590   11.858   \n3      Jerry    Male 2005-03-04 2020-02-25 13:00:00  138705    9.340   \n4      Larry    Male 1998-01-24 2020-02-25 16:47:00  101004    1.389   \n\n   Senior Management             Team  \n0               True        Marketing  \n1               True              NaN  \n2              False          Finance  \n3               True          Finance  \n4               True  Client Services  \n"
     ]
    }
   ],
   "source": [
    "df = pd.read_csv('data/employees.csv', parse_dates=['Start Date', 'Last Login Time'])\n",
    "df['Senior Management'] = df['Senior Management'].astype('bool')\n",
    "df['Gender'] = df['Gender'].astype('category') # this saves memory space\n",
    "print(df.head(5))"
   ]
  },
  {
   "cell_type": "code",
   "execution_count": 48,
   "metadata": {},
   "outputs": [
    {
     "name": "stdout",
     "output_type": "stream",
     "text": [
      "   First Name  Gender Start Date     Last Login Time  Salary  Bonus %  \\\n5      Dennis    Male 1987-04-18 2020-02-25 01:35:00  115163   10.125   \n6        Ruby  Female 1987-08-17 2020-02-25 16:20:00   65476   10.012   \n11      Julie  Female 1997-10-26 2020-02-25 15:19:00  102508   12.637   \n13       Gary    Male 2008-01-27 2020-02-25 23:40:00  109831    5.831   \n15    Lillian  Female 2016-06-05 2020-02-25 06:09:00   59414    1.256   \n\n    Senior Management     Team  \n5               False    Legal  \n6                True  Product  \n11               True    Legal  \n13              False    Sales  \n15              False  Product  \n"
     ]
    }
   ],
   "source": [
    "mask = df['Team'].isin(['Legal', 'Sales', 'Product'])\n",
    "print(df[mask].head(5))"
   ]
  },
  {
   "cell_type": "code",
   "execution_count": 49,
   "metadata": {},
   "outputs": [
    {
     "name": "stdout",
     "output_type": "stream",
     "text": [
      "  First Name  Gender Start Date     Last Login Time  Salary  Bonus %  \\\n0    Douglas    Male 1993-08-06 2020-02-25 12:42:00   97308    6.945   \n1     Thomas    Male 1996-03-31 2020-02-25 06:53:00   61933    4.170   \n2      Maria  Female 1993-04-23 2020-02-25 11:17:00  130590   11.858   \n3      Jerry    Male 2005-03-04 2020-02-25 13:00:00  138705    9.340   \n4      Larry    Male 1998-01-24 2020-02-25 16:47:00  101004    1.389   \n\n   Senior Management             Team  \n0               True        Marketing  \n1               True              NaN  \n2              False          Finance  \n3               True          Finance  \n4               True  Client Services  \n"
     ]
    }
   ],
   "source": [
    "df = pd.read_csv('data/employees.csv', parse_dates=['Start Date', 'Last Login Time'])\n",
    "df['Senior Management'] = df['Senior Management'].astype('bool')\n",
    "df['Gender'] = df['Gender'].astype('category') # this saves memory space\n",
    "print(df.head(5))"
   ]
  },
  {
   "cell_type": "code",
   "execution_count": 52,
   "metadata": {},
   "outputs": [
    {
     "name": "stdout",
     "output_type": "stream",
     "text": [
      "   First Name  Gender Start Date     Last Login Time  Salary  Bonus %  \\\n1      Thomas    Male 1996-03-31 2020-02-25 06:53:00   61933    4.170   \n10     Louise  Female 1980-08-12 2020-02-25 09:01:00   63241   15.132   \n23        NaN    Male 2012-06-14 2020-02-25 16:19:00  125792    5.042   \n32        NaN    Male 1998-08-21 2020-02-25 14:27:00  122340    6.417   \n91      James     NaN 2005-01-26 2020-02-25 23:00:00  128771    8.309   \n\n    Senior Management Team  \n1                True  NaN  \n10               True  NaN  \n23               True  NaN  \n32               True  NaN  \n91              False  NaN  \n"
     ]
    }
   ],
   "source": [
    "mask = df['Team'].isnull()\n",
    "print(df[mask].head(5))"
   ]
  },
  {
   "cell_type": "code",
   "execution_count": 53,
   "metadata": {},
   "outputs": [
    {
     "name": "stdout",
     "output_type": "stream",
     "text": [
      "  First Name  Gender Start Date     Last Login Time  Salary  Bonus %  \\\n0    Douglas    Male 1993-08-06 2020-02-25 12:42:00   97308    6.945   \n1     Thomas    Male 1996-03-31 2020-02-25 06:53:00   61933    4.170   \n2      Maria  Female 1993-04-23 2020-02-25 11:17:00  130590   11.858   \n\n   Senior Management       Team  \n0               True  Marketing  \n1               True        NaN  \n2              False    Finance  \n"
     ]
    }
   ],
   "source": [
    "mask = df['Gender'].notnull()\n",
    "print(df[mask].head(3))"
   ]
  },
  {
   "cell_type": "code",
   "execution_count": 54,
   "metadata": {},
   "outputs": [],
   "source": [
    "df = pd.read_csv('data/employees.csv', parse_dates=['Start Date', 'Last Login Time'])\n",
    "df['Senior Management'] = df['Senior Management'].astype('bool')\n",
    "df['Gender'] = df['Gender'].astype('category') # this saves memory space"
   ]
  },
  {
   "cell_type": "code",
   "execution_count": 57,
   "metadata": {},
   "outputs": [
    {
     "name": "stdout",
     "output_type": "stream",
     "text": [
      "   First Name  Gender Start Date     Last Login Time  Salary  Bonus %  \\\n1      Thomas    Male 1996-03-31 2020-02-25 06:53:00   61933    4.170   \n6        Ruby  Female 1987-08-17 2020-02-25 16:20:00   65476   10.012   \n10     Louise  Female 1980-08-12 2020-02-25 09:01:00   63241   15.132   \n20       Lois     NaN 1995-04-22 2020-02-25 19:18:00   64714    4.934   \n41  Christine     NaN 2015-06-28 2020-02-25 01:08:00   66582   11.308   \n\n    Senior Management                  Team  \n1                True                   NaN  \n6                True               Product  \n10               True                   NaN  \n20               True                 Legal  \n41               True  Business Development  \n"
     ]
    }
   ],
   "source": [
    "mask = df['Salary'].between(60000, 70000) #these values are inclusive\n",
    "print(df[mask].head(5))"
   ]
  },
  {
   "cell_type": "code",
   "execution_count": 58,
   "metadata": {},
   "outputs": [
    {
     "name": "stdout",
     "output_type": "stream",
     "text": [
      "   First Name  Gender Start Date     Last Login Time  Salary  Bonus %  \\\n2       Maria  Female 1993-04-23 2020-02-25 11:17:00  130590   11.858   \n7         NaN  Female 2015-07-20 2020-02-25 10:43:00   45906   11.598   \n10     Louise  Female 1980-08-12 2020-02-25 09:01:00   63241   15.132   \n\n    Senior Management     Team  \n2               False  Finance  \n7                True  Finance  \n10               True      NaN  \n"
     ]
    }
   ],
   "source": [
    "print(df[df['Last Login Time'].between('08:30AM', '12:00PM')].head(3))"
   ]
  },
  {
   "cell_type": "code",
   "execution_count": 60,
   "metadata": {},
   "outputs": [
    {
     "name": "stdout",
     "output_type": "stream",
     "text": [
      "    First Name Gender Start Date     Last Login Time  Salary  Bonus %  \\\n101      Aaron   Male 2012-02-17 2020-02-25 10:20:00   61602   11.849   \n327      Aaron   Male 1994-01-29 2020-02-25 18:48:00   58755    5.097   \n440      Aaron   Male 1990-07-22 2020-02-25 14:53:00   52119   11.343   \n\n     Senior Management             Team  \n101               True        Marketing  \n327               True        Marketing  \n440               True  Client Services  \n"
     ]
    }
   ],
   "source": [
    "df = pd.read_csv('data/employees.csv', parse_dates=['Start Date', 'Last Login Time'])\n",
    "df['Senior Management'] = df['Senior Management'].astype('bool')\n",
    "df['Gender'] = df['Gender'].astype('category') # this saves memory space\n",
    "df.sort_values('First Name', inplace=True)\n",
    "print(df.head(3))"
   ]
  },
  {
   "cell_type": "code",
   "execution_count": 61,
   "metadata": {},
   "outputs": [
    {
     "data": {
      "text/plain": [
       "101    False\n327     True\n440     True\n937     True\n137    False\n141     True\n302     True\n538     True\n300    False\n53      True\n610     True\n372    False\n458     True\n477     True\n680     True\n999     True\n959     True\n988    False\n970     True\n765     True\n425     True\n905     True\n684     True\n935     True\n693     True\n639    False\n642     True\n578     True\n553     True\n542     True\n       ...  \n567     True\n574     True\n599     True\n607     True\n608     True\n626     True\n628     True\n674     True\n685     True\n687     True\n697     True\n709     True\n733     True\n734     True\n773     True\n774     True\n782     True\n783     True\n785     True\n812     True\n821     True\n823     True\n826     True\n877     True\n890     True\n902     True\n925     True\n946     True\n947     True\n951     True\nName: First Name, Length: 1000, dtype: bool"
      ]
     },
     "execution_count": 61,
     "metadata": {},
     "output_type": "execute_result"
    }
   ],
   "source": [
    "# By default duplicated has a paramater called \"keep\". it marks the first occurance of each value\n",
    "# as a non duplicate. Keep can be set to \"first\" or \"last\"\n",
    "df['First Name'].duplicated()"
   ]
  },
  {
   "cell_type": "code",
   "execution_count": 64,
   "metadata": {},
   "outputs": [
    {
     "name": "stdout",
     "output_type": "stream",
     "text": [
      "    First Name Gender Start Date     Last Login Time  Salary  Bonus %  \\\n327      Aaron   Male 1994-01-29 2020-02-25 18:48:00   58755    5.097   \n440      Aaron   Male 1990-07-22 2020-02-25 14:53:00   52119   11.343   \n937      Aaron    NaN 1986-01-22 2020-02-25 19:39:00   63126   18.424   \n141       Adam   Male 1990-12-24 2020-02-25 20:57:00  110194   14.727   \n302       Adam   Male 2007-07-05 2020-02-25 11:59:00   71276    5.027   \n\n     Senior Management             Team  \n327               True        Marketing  \n440               True  Client Services  \n937              False  Client Services  \n141               True          Product  \n302               True  Human Resources  \n"
     ]
    }
   ],
   "source": [
    "print(df[df['First Name'].duplicated()].head(5))"
   ]
  },
  {
   "cell_type": "code",
   "execution_count": 67,
   "metadata": {},
   "outputs": [
    {
     "name": "stdout",
     "output_type": "stream",
     "text": [
      "    First Name Gender Start Date     Last Login Time  Salary  Bonus %  \\\n101      Aaron   Male 2012-02-17 2020-02-25 10:20:00   61602   11.849   \n327      Aaron   Male 1994-01-29 2020-02-25 18:48:00   58755    5.097   \n440      Aaron   Male 1990-07-22 2020-02-25 14:53:00   52119   11.343   \n937      Aaron    NaN 1986-01-22 2020-02-25 19:39:00   63126   18.424   \n137       Adam   Male 2011-05-21 2020-02-25 01:45:00   95327   15.120   \n141       Adam   Male 1990-12-24 2020-02-25 20:57:00  110194   14.727   \n302       Adam   Male 2007-07-05 2020-02-25 11:59:00   71276    5.027   \n538       Adam   Male 2010-10-08 2020-02-25 21:53:00   45181    3.491   \n300       Alan   Male 1988-06-26 2020-02-25 03:54:00  111786    3.592   \n53        Alan    NaN 2014-03-03 2020-02-25 13:28:00   40341   17.578   \n\n     Senior Management             Team  \n101               True        Marketing  \n327               True        Marketing  \n440               True  Client Services  \n937              False  Client Services  \n137              False     Distribution  \n141               True          Product  \n302               True  Human Resources  \n538              False  Human Resources  \n300               True      Engineering  \n53                True          Finance  \n"
     ]
    }
   ],
   "source": [
    "print(df[df['First Name'].duplicated(keep = False)].head(10)) \n",
    "# This will mark something if it is duplicate more than once."
   ]
  },
  {
   "cell_type": "code",
   "execution_count": 69,
   "metadata": {},
   "outputs": [
    {
     "name": "stdout",
     "output_type": "stream",
     "text": [
      "101    False\n327    False\n440    False\n937    False\n137    False\nName: First Name, dtype: bool\n"
     ]
    }
   ],
   "source": [
    "print(~df['First Name'].duplicated(keep= False).head(5)) # the ~ negates it and changes the false to true"
   ]
  },
  {
   "cell_type": "code",
   "execution_count": 71,
   "metadata": {},
   "outputs": [
    {
     "name": "stdout",
     "output_type": "stream",
     "text": [
      "    First Name Gender Start Date     Last Login Time  Salary  Bonus %  \\\n101      Aaron   Male 2012-02-17 2020-02-25 10:20:00   61602   11.849   \n327      Aaron   Male 1994-01-29 2020-02-25 18:48:00   58755    5.097   \n440      Aaron   Male 1990-07-22 2020-02-25 14:53:00   52119   11.343   \n937      Aaron    NaN 1986-01-22 2020-02-25 19:39:00   63126   18.424   \n137       Adam   Male 2011-05-21 2020-02-25 01:45:00   95327   15.120   \n\n     Senior Management             Team  \n101               True        Marketing  \n327               True        Marketing  \n440               True  Client Services  \n937              False  Client Services  \n137              False     Distribution  \n"
     ]
    }
   ],
   "source": [
    "df = pd.read_csv('data/employees.csv', parse_dates=['Start Date', 'Last Login Time'])\n",
    "df['Senior Management'] = df['Senior Management'].astype('bool')\n",
    "df['Gender'] = df['Gender'].astype('category') # this saves memory space\n",
    "df.sort_values('First Name', inplace=True)\n",
    "print(df.head(5))"
   ]
  },
  {
   "cell_type": "code",
   "execution_count": 72,
   "metadata": {},
   "outputs": [
    {
     "data": {
      "text/plain": [
       "1000"
      ]
     },
     "execution_count": 72,
     "metadata": {},
     "output_type": "execute_result"
    }
   ],
   "source": [
    "len(df)"
   ]
  },
  {
   "cell_type": "code",
   "execution_count": 77,
   "metadata": {},
   "outputs": [
    {
     "name": "stdout",
     "output_type": "stream",
     "text": [
      "    First Name  Gender Start Date     Last Login Time  Salary  Bonus %  \\\n8       Angela  Female 2005-11-22 2020-02-25 06:29:00   95570   18.523   \n688      Brian    Male 2007-04-07 2020-02-25 22:47:00   93901   17.821   \n190      Carol  Female 1996-03-19 2020-02-25 03:39:00   57783    9.129   \n887      David    Male 2009-12-05 2020-02-25 08:48:00   92242   15.407   \n5       Dennis    Male 1987-04-18 2020-02-25 01:35:00  115163   10.125   \n495     Eugene    Male 1984-05-24 2020-02-25 10:54:00   81077    2.117   \n33        Jean  Female 1993-12-18 2020-02-25 09:07:00  119082   16.180   \n832      Keith    Male 2003-02-12 2020-02-25 15:02:00  120672   19.467   \n291      Tammy  Female 1984-11-11 2020-02-25 10:30:00  132839   17.463   \n\n     Senior Management                  Team  \n8                 True           Engineering  \n688               True                 Legal  \n190              False               Finance  \n887              False                 Legal  \n5                False                 Legal  \n495              False                 Sales  \n33               False  Business Development  \n832              False                 Legal  \n291               True       Client Services  \n"
     ]
    }
   ],
   "source": [
    "print(df.drop_duplicates(subset=['First Name'], keep=False).head(10)) \n",
    "# subset is what columns to look in. Keep is the same as in duplicates\n",
    "# by setting keep to false it will remove ALL occurances of the duplicates. \n",
    "# has the inplace parameter"
   ]
  },
  {
   "cell_type": "code",
   "execution_count": 78,
   "metadata": {},
   "outputs": [
    {
     "name": "stdout",
     "output_type": "stream",
     "text": [
      "  First Name  Gender Start Date     Last Login Time  Salary  Bonus %  \\\n0    Douglas    Male 1993-08-06 2020-02-25 12:42:00   97308    6.945   \n1     Thomas    Male 1996-03-31 2020-02-25 06:53:00   61933    4.170   \n2      Maria  Female 1993-04-23 2020-02-25 11:17:00  130590   11.858   \n3      Jerry    Male 2005-03-04 2020-02-25 13:00:00  138705    9.340   \n4      Larry    Male 1998-01-24 2020-02-25 16:47:00  101004    1.389   \n\n   Senior Management             Team  \n0               True        Marketing  \n1               True              NaN  \n2              False          Finance  \n3               True          Finance  \n4               True  Client Services  \n"
     ]
    }
   ],
   "source": [
    "df = pd.read_csv('data/employees.csv', parse_dates=['Start Date', 'Last Login Time'])\n",
    "df['Senior Management'] = df['Senior Management'].astype('bool')\n",
    "df['Gender'] = df['Gender'].astype('category') # this saves memory space\n",
    "print(df.head(5))"
   ]
  },
  {
   "cell_type": "code",
   "execution_count": 79,
   "metadata": {},
   "outputs": [
    {
     "data": {
      "text/plain": [
       "[Male, Female, NaN]\nCategories (2, object): [Male, Female]"
      ]
     },
     "execution_count": 79,
     "metadata": {},
     "output_type": "execute_result"
    }
   ],
   "source": [
    "df['Gender'].unique()"
   ]
  },
  {
   "cell_type": "code",
   "execution_count": 80,
   "metadata": {},
   "outputs": [
    {
     "data": {
      "text/plain": [
       "11"
      ]
     },
     "execution_count": 80,
     "metadata": {},
     "output_type": "execute_result"
    }
   ],
   "source": [
    "len(df['Team'].unique())"
   ]
  },
  {
   "cell_type": "code",
   "execution_count": 81,
   "metadata": {},
   "outputs": [
    {
     "data": {
      "text/plain": [
       "10"
      ]
     },
     "execution_count": 81,
     "metadata": {},
     "output_type": "execute_result"
    }
   ],
   "source": [
    "df['Team'].nunique() # nunique does not count null values. dropna is a parameter to change this"
   ]
  },
  {
   "cell_type": "code",
   "execution_count": 82,
   "metadata": {},
   "outputs": [
    {
     "data": {
      "text/plain": [
       "11"
      ]
     },
     "execution_count": 82,
     "metadata": {},
     "output_type": "execute_result"
    }
   ],
   "source": [
    "df['Team'].nunique(dropna=False)"
   ]
  },
  {
   "cell_type": "code",
   "execution_count": null,
   "metadata": {},
   "outputs": [],
   "source": []
  }
 ],
 "metadata": {
  "kernelspec": {
   "display_name": "Python 2",
   "language": "python",
   "name": "python2"
  },
  "language_info": {
   "codemirror_mode": {
    "name": "ipython",
    "version": 2
   },
   "file_extension": ".py",
   "mimetype": "text/x-python",
   "name": "python",
   "nbconvert_exporter": "python",
   "pygments_lexer": "ipython2",
   "version": "2.7.6"
  }
 },
 "nbformat": 4,
 "nbformat_minor": 0
}
