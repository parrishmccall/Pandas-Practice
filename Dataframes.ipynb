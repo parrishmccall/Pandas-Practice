{
 "cells": [
  {
   "cell_type": "code",
   "execution_count": 4,
   "metadata": {
    "collapsed": true
   },
   "outputs": [
    {
     "name": "stdout",
     "output_type": "stream",
     "text": [
      "            Name            Team  Number Position   Age Height  Weight  \\\n0  Avery Bradley  Boston Celtics     0.0       PG  25.0    6-2   180.0   \n1    Jae Crowder  Boston Celtics    99.0       SF  25.0    6-6   235.0   \n2   John Holland  Boston Celtics    30.0       SG  27.0    6-5   205.0   \n\n             College     Salary  \n0              Texas  7730337.0  \n1          Marquette  6796117.0  \n2  Boston University        NaN  \n"
     ]
    }
   ],
   "source": [
    "import pandas as pd\n",
    "nba = pd.read_csv(\"data/nba.csv\")\n",
    "print(nba.head(3))"
   ]
  },
  {
   "cell_type": "code",
   "execution_count": 9,
   "metadata": {},
   "outputs": [],
   "source": [
    "# To extract the entire column just use the name. Extracting a single column give a series. \n",
    "# no double quotes required. Does not work 100% of the time\n",
    "nba.Name\n",
    "nba.Number\n",
    "Output = None # Hides the output"
   ]
  },
  {
   "cell_type": "code",
   "execution_count": 11,
   "metadata": {},
   "outputs": [
    {
     "data": {
      "text/plain": [
       "0    Avery Bradley\n1      Jae Crowder\n2     John Holland\nName: Name, dtype: object"
      ]
     },
     "execution_count": 11,
     "metadata": {},
     "output_type": "execute_result"
    }
   ],
   "source": [
    "# Extracts a single column. Works more often than the previous method.\n",
    "nba['Name'].head(3)"
   ]
  },
  {
   "cell_type": "code",
   "execution_count": 19,
   "metadata": {},
   "outputs": [
    {
     "name": "stdout",
     "output_type": "stream",
     "text": [
      "            Name            Team\n0  Avery Bradley  Boston Celtics\n1    Jae Crowder  Boston Celtics\n2   John Holland  Boston Celtics\n"
     ]
    }
   ],
   "source": [
    "# Extract more than one column and store it in a list\n",
    "print(nba[['Name', 'Team']].head(3))\n"
   ]
  },
  {
   "cell_type": "code",
   "execution_count": 22,
   "metadata": {},
   "outputs": [
    {
     "name": "stdout",
     "output_type": "stream",
     "text": [
      "            Name            Team\n0  Avery Bradley  Boston Celtics\n1    Jae Crowder  Boston Celtics\n2   John Holland  Boston Celtics\n"
     ]
    }
   ],
   "source": [
    "select = ['Name', 'Team']\n",
    "print(nba[select].head(3))"
   ]
  },
  {
   "cell_type": "code",
   "execution_count": 24,
   "metadata": {},
   "outputs": [
    {
     "name": "stdout",
     "output_type": "stream",
     "text": [
      "            Name            Team  Number Position   Age Height  Weight  \\\n0  Avery Bradley  Boston Celtics     0.0       PG  25.0    6-2   180.0   \n1    Jae Crowder  Boston Celtics    99.0       SF  25.0    6-6   235.0   \n2   John Holland  Boston Celtics    30.0       SG  27.0    6-5   205.0   \n\n             College     Salary  \n0              Texas  7730337.0  \n1          Marquette  6796117.0  \n2  Boston University        NaN  \n"
     ]
    }
   ],
   "source": [
    "print(nba.head(3))"
   ]
  },
  {
   "cell_type": "code",
   "execution_count": 27,
   "metadata": {},
   "outputs": [
    {
     "name": "stdout",
     "output_type": "stream",
     "text": [
      "            Name            Team  Number Position   Age Height  Weight  \\\n0  Avery Bradley  Boston Celtics     0.0       PG  25.0    6-2   180.0   \n1    Jae Crowder  Boston Celtics    99.0       SF  25.0    6-6   235.0   \n2   John Holland  Boston Celtics    30.0       SG  27.0    6-5   205.0   \n3    R.J. Hunter  Boston Celtics    28.0       SG  22.0    6-5   185.0   \n\n             College     Salary       Sport  \n0              Texas  7730337.0  Basketball  \n1          Marquette  6796117.0  Basketball  \n2  Boston University        NaN  Basketball  \n3      Georgia State  1148640.0  Basketball  \n"
     ]
    }
   ],
   "source": [
    "# Inserting a new column. If this column already exists it will overwrite the contents with the new data\n",
    "# Can give a series and it will align it wil the column\n",
    "\n",
    "nba[\"Sport\"] = 'Basketball'\n",
    "print(nba.head(4))"
   ]
  },
  {
   "cell_type": "code",
   "execution_count": 35,
   "metadata": {},
   "outputs": [],
   "source": [
    "nba = pd.read_csv(\"data/nba.csv\")"
   ]
  },
  {
   "cell_type": "code",
   "execution_count": 36,
   "metadata": {},
   "outputs": [
    {
     "name": "stdout",
     "output_type": "stream",
     "text": [
      "            Name            Team  Number       Sport Position   Age Height  \\\n0  Avery Bradley  Boston Celtics     0.0  Basketball       PG  25.0    6-2   \n1    Jae Crowder  Boston Celtics    99.0  Basketball       SF  25.0    6-6   \n2   John Holland  Boston Celtics    30.0  Basketball       SG  27.0    6-5   \n\n   Weight            College     Salary  \n0   180.0              Texas  7730337.0  \n1   235.0          Marquette  6796117.0  \n2   205.0  Boston University        NaN  \n"
     ]
    }
   ],
   "source": [
    "# The first paramater is loc which represents the index within the columns\n",
    "\n",
    "nba.insert(3, column='Sport', value='Basketball')\n",
    "print(nba.head(3))"
   ]
  },
  {
   "cell_type": "code",
   "execution_count": 46,
   "metadata": {},
   "outputs": [
    {
     "name": "stdout",
     "output_type": "stream",
     "text": [
      "0    25.0\n1    25.0\n2    27.0\nName: Age, dtype: float64\n"
     ]
    }
   ],
   "source": [
    "nba = pd.read_csv(\"data/nba.csv\")\n",
    "\n",
    "print(nba['Age'].head(3))"
   ]
  },
  {
   "cell_type": "code",
   "execution_count": 47,
   "metadata": {},
   "outputs": [
    {
     "data": {
      "text/plain": [
       "0    30.0\n1    30.0\n2    32.0\nName: Age, dtype: float64"
      ]
     },
     "execution_count": 47,
     "metadata": {},
     "output_type": "execute_result"
    }
   ],
   "source": [
    "# This applies the change to every value in that column of the dataframe\n",
    "nba[\"Age\"].add(5).head(3)"
   ]
  },
  {
   "cell_type": "code",
   "execution_count": 49,
   "metadata": {},
   "outputs": [
    {
     "name": "stdout",
     "output_type": "stream",
     "text": [
      "0    30.0\n1    30.0\n2    32.0\nName: Age, dtype: float64\n"
     ]
    }
   ],
   "source": [
    "# Or can add this way\n",
    "\n",
    "print((nba[\"Age\"] + 5).head(3))"
   ]
  },
  {
   "cell_type": "code",
   "execution_count": 51,
   "metadata": {},
   "outputs": [
    {
     "name": "stdout",
     "output_type": "stream",
     "text": [
      "0    20.0\n1    20.0\n2    22.0\nName: Age, dtype: float64\n"
     ]
    }
   ],
   "source": [
    "# can subtract using sub\n",
    "print(nba[\"Age\"].sub(5).head(3))"
   ]
  },
  {
   "cell_type": "code",
   "execution_count": 52,
   "metadata": {},
   "outputs": [
    {
     "name": "stdout",
     "output_type": "stream",
     "text": [
      "0    20.0\n1    20.0\n2    22.0\nName: Age, dtype: float64\n"
     ]
    }
   ],
   "source": [
    "print((nba['Age'] - 5).head(3))"
   ]
  },
  {
   "cell_type": "code",
   "execution_count": 53,
   "metadata": {},
   "outputs": [
    {
     "name": "stdout",
     "output_type": "stream",
     "text": [
      "0    125.0\n1    125.0\n2    135.0\nName: Age, dtype: float64\n"
     ]
    }
   ],
   "source": [
    "print((nba['Age'].mul(5)).head(3))"
   ]
  },
  {
   "cell_type": "code",
   "execution_count": 55,
   "metadata": {},
   "outputs": [
    {
     "name": "stdout",
     "output_type": "stream",
     "text": [
      "0    125.0\n1    125.0\n2    135.0\nName: Age, dtype: float64\n"
     ]
    }
   ],
   "source": [
    "print((nba['Age']* 5).head(3))"
   ]
  },
  {
   "cell_type": "code",
   "execution_count": 56,
   "metadata": {},
   "outputs": [
    {
     "name": "stdout",
     "output_type": "stream",
     "text": [
      "            Name            Team  Number Position   Age Height  Weight  \\\n0  Avery Bradley  Boston Celtics     0.0       PG  25.0    6-2   180.0   \n1    Jae Crowder  Boston Celtics    99.0       SF  25.0    6-6   235.0   \n2   John Holland  Boston Celtics    30.0       SG  27.0    6-5   205.0   \n\n             College     Salary  Mult Age  \n0              Texas  7730337.0      75.0  \n1          Marquette  6796117.0      75.0  \n2  Boston University        NaN      81.0  \n"
     ]
    }
   ],
   "source": [
    "# Can add a column using a series instead of a static value. This will save the value to the dataframe\n",
    "nba['Mult Age'] = nba['Age'].mul(3)\n",
    "print(nba.head(3))"
   ]
  },
  {
   "cell_type": "code",
   "execution_count": 58,
   "metadata": {},
   "outputs": [
    {
     "name": "stdout",
     "output_type": "stream",
     "text": [
      "0    12.5\n1    12.5\n2    13.5\nName: Age, dtype: float64\n"
     ]
    }
   ],
   "source": [
    "print(nba['Age'].div(2).head(3))"
   ]
  },
  {
   "cell_type": "code",
   "execution_count": 62,
   "metadata": {},
   "outputs": [
    {
     "name": "stdout",
     "output_type": "stream",
     "text": [
      "            Name            Team  Number Position   Age Height  Weight  \\\n0  Avery Bradley  Boston Celtics     0.0       PG  25.0    6-2   180.0   \n1    Jae Crowder  Boston Celtics    99.0       SF  25.0    6-6   235.0   \n2   John Holland  Boston Celtics    30.0       SG  27.0    6-5   205.0   \n\n             College     Salary  \n0              Texas  7730337.0  \n1          Marquette  6796117.0  \n2  Boston University        NaN  \n"
     ]
    }
   ],
   "source": [
    "nba = pd.read_csv(\"data/nba.csv\")\n",
    "print(nba.head(3))"
   ]
  },
  {
   "cell_type": "code",
   "execution_count": 64,
   "metadata": {},
   "outputs": [
    {
     "data": {
      "text/plain": [
       "New Orleans Pelicans    19\nMemphis Grizzlies       18\nNew York Knicks         16\nName: Team, dtype: int64"
      ]
     },
     "execution_count": 64,
     "metadata": {},
     "output_type": "execute_result"
    }
   ],
   "source": [
    "# use value counts to get the counts of values. Shows how many times each unique value occurs in the column\n",
    "nba['Team'].value_counts().head(3)\n"
   ]
  },
  {
   "cell_type": "code",
   "execution_count": 66,
   "metadata": {},
   "outputs": [
    {
     "name": "stdout",
     "output_type": "stream",
     "text": [
      "             Name       Team  Number Position   Age Height  Weight College  \\\n453  Shelvin Mack  Utah Jazz     8.0       PG  26.0    6-3   203.0  Butler   \n454     Raul Neto  Utah Jazz    25.0       PG  24.0    6-1   179.0     NaN   \n455  Tibor Pleiss  Utah Jazz    21.0        C  26.0    7-3   256.0     NaN   \n456   Jeff Withey  Utah Jazz    24.0        C  26.0    7-0   231.0  Kansas   \n457           NaN        NaN     NaN      NaN   NaN    NaN     NaN     NaN   \n\n        Salary  \n453  2433333.0  \n454   900000.0  \n455  2900000.0  \n456   947276.0  \n457        NaN  \n"
     ]
    }
   ],
   "source": [
    "nba = pd.read_csv(\"data/nba.csv\")\n",
    "print(nba.tail())"
   ]
  },
  {
   "cell_type": "code",
   "execution_count": 67,
   "metadata": {},
   "outputs": [
    {
     "name": "stdout",
     "output_type": "stream",
     "text": [
      "              Name       Team  Number Position   Age Height  Weight   College  \\\n449    Rodney Hood  Utah Jazz     5.0       SG  23.0    6-8   206.0      Duke   \n451  Chris Johnson  Utah Jazz    23.0       SF  26.0    6-6   206.0    Dayton   \n452     Trey Lyles  Utah Jazz    41.0       PF  20.0   6-10   234.0  Kentucky   \n453   Shelvin Mack  Utah Jazz     8.0       PG  26.0    6-3   203.0    Butler   \n456    Jeff Withey  Utah Jazz    24.0        C  26.0    7-0   231.0    Kansas   \n\n        Salary  \n449  1348440.0  \n451   981348.0  \n452  2239800.0  \n453  2433333.0  \n456   947276.0  \n"
     ]
    }
   ],
   "source": [
    "# dropna removes any rows from the dataframe that have any null values at all.\n",
    "print(nba.dropna().tail())"
   ]
  },
  {
   "cell_type": "code",
   "execution_count": 71,
   "metadata": {},
   "outputs": [
    {
     "name": "stdout",
     "output_type": "stream",
     "text": [
      "             Name       Team  Number Position   Age Height  Weight   College  \\\n452    Trey Lyles  Utah Jazz    41.0       PF  20.0   6-10   234.0  Kentucky   \n453  Shelvin Mack  Utah Jazz     8.0       PG  26.0    6-3   203.0    Butler   \n454     Raul Neto  Utah Jazz    25.0       PG  24.0    6-1   179.0       NaN   \n455  Tibor Pleiss  Utah Jazz    21.0        C  26.0    7-3   256.0       NaN   \n456   Jeff Withey  Utah Jazz    24.0        C  26.0    7-0   231.0    Kansas   \n\n        Salary  \n452  2239800.0  \n453  2433333.0  \n454   900000.0  \n455  2900000.0  \n456   947276.0  \n"
     ]
    }
   ],
   "source": [
    "# this will only drop the row if all the values in the row are null\n",
    "print(nba.dropna(how='all').tail())"
   ]
  },
  {
   "cell_type": "code",
   "execution_count": 72,
   "metadata": {},
   "outputs": [
    {
     "name": "stdout",
     "output_type": "stream",
     "text": [
      "             Name       Team  Number Position   Age Height  Weight   College  \\\n452    Trey Lyles  Utah Jazz    41.0       PF  20.0   6-10   234.0  Kentucky   \n453  Shelvin Mack  Utah Jazz     8.0       PG  26.0    6-3   203.0    Butler   \n454     Raul Neto  Utah Jazz    25.0       PG  24.0    6-1   179.0       NaN   \n455  Tibor Pleiss  Utah Jazz    21.0        C  26.0    7-3   256.0       NaN   \n456   Jeff Withey  Utah Jazz    24.0        C  26.0    7-0   231.0    Kansas   \n\n        Salary  \n452  2239800.0  \n453  2433333.0  \n454   900000.0  \n455  2900000.0  \n456   947276.0  \n"
     ]
    }
   ],
   "source": [
    "print(nba.tail())\n",
    "# This will save the drop to the existing dataframe\n",
    "#print(nba.dropna(how='all', inplace=True))"
   ]
  },
  {
   "cell_type": "code",
   "execution_count": 74,
   "metadata": {},
   "outputs": [
    {
     "name": "stdout",
     "output_type": "stream",
     "text": [
      "            Name            Team  Number Position   Age Height  Weight\n0  Avery Bradley  Boston Celtics     0.0       PG  25.0    6-2   180.0\n1    Jae Crowder  Boston Celtics    99.0       SF  25.0    6-6   235.0\n2   John Holland  Boston Celtics    30.0       SG  27.0    6-5   205.0\n"
     ]
    }
   ],
   "source": [
    "# Removes columns with any null values. \n",
    "\n",
    "print(nba.dropna(axis=1).head(3))"
   ]
  },
  {
   "cell_type": "code",
   "execution_count": 76,
   "metadata": {},
   "outputs": [
    {
     "name": "stdout",
     "output_type": "stream",
     "text": [
      "            Name            Team  Number Position   Age Height  Weight  \\\n0  Avery Bradley  Boston Celtics     0.0       PG  25.0    6-2   180.0   \n1    Jae Crowder  Boston Celtics    99.0       SF  25.0    6-6   235.0   \n3    R.J. Hunter  Boston Celtics    28.0       SG  22.0    6-5   185.0   \n\n         College     Salary  \n0          Texas  7730337.0  \n1      Marquette  6796117.0  \n3  Georgia State  1148640.0  \n"
     ]
    }
   ],
   "source": [
    "# This removes null values only in the salary column. Note that john holland is gone\n",
    "print(nba.dropna(subset=['Salary']).head(3))"
   ]
  },
  {
   "cell_type": "code",
   "execution_count": 84,
   "metadata": {},
   "outputs": [
    {
     "name": "stdout",
     "output_type": "stream",
     "text": [
      "            Name            Team  Number Position   Age Height  Weight  \\\n0  Avery Bradley  Boston Celtics     0.0       PG  25.0    6-2   180.0   \n1    Jae Crowder  Boston Celtics    99.0       SF  25.0    6-6   235.0   \n2   John Holland  Boston Celtics    30.0       SG  27.0    6-5   205.0   \n\n             College     Salary  \n0              Texas  7730337.0  \n1          Marquette  6796117.0  \n2  Boston University        NaN  \n"
     ]
    }
   ],
   "source": [
    "nba = pd.read_csv(\"data/nba.csv\")\n",
    "print(nba.head(3))"
   ]
  },
  {
   "cell_type": "code",
   "execution_count": 85,
   "metadata": {},
   "outputs": [
    {
     "name": "stdout",
     "output_type": "stream",
     "text": [
      "            Name            Team  Number Position   Age Height  Weight  \\\n0  Avery Bradley  Boston Celtics     0.0       PG  25.0    6-2   180.0   \n1    Jae Crowder  Boston Celtics    99.0       SF  25.0    6-6   235.0   \n2   John Holland  Boston Celtics    30.0       SG  27.0    6-5   205.0   \n3    R.J. Hunter  Boston Celtics    28.0       SG  22.0    6-5   185.0   \n4  Jonas Jerebko  Boston Celtics     8.0       PF  29.0   6-10   231.0   \n\n             College     Salary  \n0              Texas  7730337.0  \n1          Marquette  6796117.0  \n2  Boston University        0.0  \n3      Georgia State  1148640.0  \n4                  0  5000000.0  \n"
     ]
    }
   ],
   "source": [
    "# How to fill NaN's will specific values. \n",
    "\n",
    "print(nba.fillna(0).head(5))"
   ]
  },
  {
   "cell_type": "code",
   "execution_count": 89,
   "metadata": {},
   "outputs": [
    {
     "name": "stdout",
     "output_type": "stream",
     "text": [
      "            Name            Team  Number Position   Age Height  Weight  \\\n0  Avery Bradley  Boston Celtics     0.0       PG  25.0    6-2   180.0   \n1    Jae Crowder  Boston Celtics    99.0       SF  25.0    6-6   235.0   \n2   John Holland  Boston Celtics    30.0       SG  27.0    6-5   205.0   \n3    R.J. Hunter  Boston Celtics    28.0       SG  22.0    6-5   185.0   \n4  Jonas Jerebko  Boston Celtics     8.0       PF  29.0   6-10   231.0   \n\n             College     Salary  \n0              Texas  7730337.0  \n1          Marquette  6796117.0  \n2  Boston University        0.0  \n3      Georgia State  1148640.0  \n4                NaN  5000000.0  \n"
     ]
    }
   ],
   "source": [
    "# call fill na on the series instead of the whole df to account for different data types. \n",
    "# inplace makes the change permenant\n",
    "\n",
    "nba['Salary'].fillna(0, inplace=True)\n",
    "print(nba.head(5))"
   ]
  },
  {
   "cell_type": "code",
   "execution_count": 90,
   "metadata": {},
   "outputs": [
    {
     "name": "stdout",
     "output_type": "stream",
     "text": [
      "            Name            Team  Number Position   Age Height  Weight  \\\n0  Avery Bradley  Boston Celtics     0.0       PG  25.0    6-2   180.0   \n1    Jae Crowder  Boston Celtics    99.0       SF  25.0    6-6   235.0   \n2   John Holland  Boston Celtics    30.0       SG  27.0    6-5   205.0   \n3    R.J. Hunter  Boston Celtics    28.0       SG  22.0    6-5   185.0   \n4  Jonas Jerebko  Boston Celtics     8.0       PF  29.0   6-10   231.0   \n\n             College     Salary  \n0              Texas  7730337.0  \n1          Marquette  6796117.0  \n2  Boston University        0.0  \n3      Georgia State  1148640.0  \n4         No College  5000000.0  \n"
     ]
    }
   ],
   "source": [
    "nba['College'].fillna('No College', inplace=True)\n",
    "print(nba.head(5))"
   ]
  },
  {
   "cell_type": "code",
   "execution_count": 103,
   "metadata": {},
   "outputs": [
    {
     "name": "stdout",
     "output_type": "stream",
     "text": [
      "            Name            Team  Number Position   Age Height  Weight  \\\n0  Avery Bradley  Boston Celtics     0.0       PG  25.0    6-2   180.0   \n1    Jae Crowder  Boston Celtics    99.0       SF  25.0    6-6   235.0   \n2   John Holland  Boston Celtics    30.0       SG  27.0    6-5   205.0   \n3    R.J. Hunter  Boston Celtics    28.0       SG  22.0    6-5   185.0   \n4  Jonas Jerebko  Boston Celtics     8.0       PF  29.0   6-10   231.0   \n5   Amir Johnson  Boston Celtics    90.0       PF  29.0    6-9   240.0   \n\n             College      Salary  \n0              Texas   7730337.0  \n1          Marquette   6796117.0  \n2  Boston University         NaN  \n3      Georgia State   1148640.0  \n4                NaN   5000000.0  \n5                NaN  12000000.0  \n            Name            Team  Number Position   Age Height  Weight  \\\n0  Avery Bradley  Boston Celtics     0.0       PG  25.0    6-2   180.0   \n1    Jae Crowder  Boston Celtics    99.0       SF  25.0    6-6   235.0   \n2   John Holland  Boston Celtics    30.0       SG  27.0    6-5   205.0   \n3    R.J. Hunter  Boston Celtics    28.0       SG  22.0    6-5   185.0   \n4  Jonas Jerebko  Boston Celtics     8.0       PF  29.0   6-10   231.0   \n5   Amir Johnson  Boston Celtics    90.0       PF  29.0    6-9   240.0   \n\n             College      Salary  \n0              Texas   7730337.0  \n1          Marquette   6796117.0  \n2  Boston University         0.0  \n3      Georgia State   1148640.0  \n4               None   5000000.0  \n5               None  12000000.0  \n"
     ]
    }
   ],
   "source": [
    "nba = pd.read_csv(\"data/nba.csv\").dropna(how='all')\n",
    "print(nba.head(6))\n",
    "nba[\"Salary\"].fillna(0, inplace=True)\n",
    "nba['College'].fillna('None', inplace= True)\n",
    "print(nba.head(6))"
   ]
  },
  {
   "cell_type": "code",
   "execution_count": 104,
   "metadata": {},
   "outputs": [
    {
     "name": "stdout",
     "output_type": "stream",
     "text": [
      "0    7730337.0\n1    6796117.0\n2          0.0\n3    1148640.0\n4    5000000.0\nName: Salary, dtype: float64\n"
     ]
    }
   ],
   "source": [
    "# When pandas sees an int column with null values it imports all the values as floats. \n",
    "# use astype to change back to int\n",
    "\n",
    "nba[\"Salary\"] = nba['Salary'].astype('int').head(5)\n",
    "print(nba['Salary'].head(5))"
   ]
  },
  {
   "cell_type": "code",
   "execution_count": 106,
   "metadata": {},
   "outputs": [
    {
     "name": "stdout",
     "output_type": "stream",
     "text": [
      "            Name            Team  Number Position  Age Height  Weight  \\\n0  Avery Bradley  Boston Celtics       0       PG   25    6-2   180.0   \n1    Jae Crowder  Boston Celtics      99       SF   25    6-6   235.0   \n2   John Holland  Boston Celtics      30       SG   27    6-5   205.0   \n3    R.J. Hunter  Boston Celtics      28       SG   22    6-5   185.0   \n4  Jonas Jerebko  Boston Celtics       8       PF   29   6-10   231.0   \n\n             College     Salary  \n0              Texas  7730337.0  \n1          Marquette  6796117.0  \n2  Boston University        0.0  \n3      Georgia State  1148640.0  \n4               None  5000000.0  \n"
     ]
    }
   ],
   "source": [
    "nba['Number'] = nba['Number'].astype('int')\n",
    "nba['Age'] = nba['Age'].astype('int')\n",
    "print(nba.head(5))"
   ]
  },
  {
   "cell_type": "code",
   "execution_count": 107,
   "metadata": {},
   "outputs": [
    {
     "name": "stdout",
     "output_type": "stream",
     "text": [
      "5\n"
     ]
    }
   ],
   "source": [
    "# category is for when you have a small number of unique values in a df. reduces mem usage.\n",
    "# points every cell wit the same data to a single object\n",
    "\n",
    "print(nba['Position'].nunique())\n",
    "\n",
    "\n"
   ]
  },
  {
   "cell_type": "code",
   "execution_count": 109,
   "metadata": {},
   "outputs": [
    {
     "name": "stdout",
     "output_type": "stream",
     "text": [
      "0    PG\n1    SF\n2    SG\n3    SG\n4    PF\nName: Position, dtype: category\nCategories (5, object): [C, PF, PG, SF, SG]\n"
     ]
    }
   ],
   "source": [
    "nba['Position'] = nba['Position'].astype('category')\n",
    "print(nba['Position'].head(5))"
   ]
  },
  {
   "cell_type": "code",
   "execution_count": 110,
   "metadata": {},
   "outputs": [
    {
     "name": "stdout",
     "output_type": "stream",
     "text": [
      "            Name            Team  Number Position   Age Height  Weight  \\\n0  Avery Bradley  Boston Celtics     0.0       PG  25.0    6-2   180.0   \n1    Jae Crowder  Boston Celtics    99.0       SF  25.0    6-6   235.0   \n2   John Holland  Boston Celtics    30.0       SG  27.0    6-5   205.0   \n\n             College     Salary  \n0              Texas  7730337.0  \n1          Marquette  6796117.0  \n2  Boston University        NaN  \n"
     ]
    }
   ],
   "source": [
    "nba = pd.read_csv(\"data/nba.csv\")\n",
    "print(nba.head(3))"
   ]
  },
  {
   "cell_type": "code",
   "execution_count": 116,
   "metadata": {},
   "outputs": [
    {
     "name": "stdout",
     "output_type": "stream",
     "text": [
      "               Name                    Team  Number Position   Age Height  \\\n152    Aaron Brooks           Chicago Bulls     0.0       PG  31.0    6-0   \n356    Aaron Gordon           Orlando Magic     0.0       PF  20.0    6-9   \n328  Aaron Harrison       Charlotte Hornets     9.0       SG  21.0    6-6   \n404   Adreian Payne  Minnesota Timberwolves    33.0       PF  25.0   6-10   \n312      Al Horford           Atlanta Hawks    15.0        C  30.0   6-10   \n\n     Weight         College      Salary  \n152   161.0          Oregon   2250000.0  \n356   220.0         Arizona   4171680.0  \n328   210.0        Kentucky    525093.0  \n404   237.0  Michigan State   1938840.0  \n312   245.0         Florida  12000000.0  \n                Name                    Team  Number Position   Age Height  \\\n237    Zaza Pachulia        Dallas Mavericks    27.0        C  32.0   6-11   \n271    Zach Randolph       Memphis Grizzlies    50.0       PF  34.0    6-9   \n402      Zach LaVine  Minnesota Timberwolves     8.0       PG  21.0    6-5   \n270   Xavier Munford       Memphis Grizzlies    14.0       PG  24.0    6-3   \n386  Wilson Chandler          Denver Nuggets    21.0       SF  29.0    6-8   \n\n     Weight         College      Salary  \n237   275.0             NaN   5200000.0  \n271   260.0  Michigan State   9638555.0  \n402   189.0            UCLA   2148360.0  \n270   180.0    Rhode Island         NaN  \n386   225.0          DePaul  10449438.0  \n              Name                    Team  Number Position   Age Height  \\\n350  Briante Weber              Miami Heat    12.0       PG  23.0    6-2   \n353  Dorell Wright              Miami Heat    11.0       SF  30.0    6-9   \n397   Axel Toupane          Denver Nuggets     6.0       SG  23.0    6-7   \n409     Greg Smith  Minnesota Timberwolves     4.0       PF  25.0   6-10   \n457            NaN                     NaN     NaN      NaN   NaN    NaN   \n\n     Weight                College  Salary  \n350   165.0  Virginia Commonwealth     NaN  \n353   205.0                    NaN     NaN  \n397   210.0                    NaN     NaN  \n409   250.0           Fresno State     NaN  \n457     NaN                    NaN     NaN  \n              Name                 Team  Number Position   Age Height  Weight  \\\n2     John Holland       Boston Celtics    30.0       SG  27.0    6-5   205.0   \n46     Elton Brand   Philadelphia 76ers    42.0       PF  37.0    6-9   254.0   \n171  Dahntay Jones  Cleveland Cavaliers    30.0       SG  35.0    6-6   225.0   \n264  Jordan Farmar    Memphis Grizzlies     4.0       PG  29.0    6-2   180.0   \n269   Ray McCallum    Memphis Grizzlies     5.0       PG  24.0    6-3   190.0   \n\n               College  Salary  \n2    Boston University     NaN  \n46                Duke     NaN  \n171               Duke     NaN  \n264               UCLA     NaN  \n269            Detroit     NaN  \n"
     ]
    }
   ],
   "source": [
    "print(nba.sort_values('Name').head(5))\n",
    "print(nba.sort_values('Name', ascending=False).head(5)) # prints reverse order\n",
    "# If you have null values it will sort those at the end.\n",
    "print(nba.sort_values('Salary').tail(5))\n",
    "print(nba.sort_values('Salary', na_position='first').head(5))\n"
   ]
  },
  {
   "cell_type": "code",
   "execution_count": 117,
   "metadata": {},
   "outputs": [],
   "source": [
    "nba = pd.read_csv(\"data/nba.csv\")"
   ]
  },
  {
   "cell_type": "code",
   "execution_count": 120,
   "metadata": {},
   "outputs": [
    {
     "name": "stdout",
     "output_type": "stream",
     "text": [
      "                Name           Team  Number Position   Age Height  Weight  \\\n312       Al Horford  Atlanta Hawks    15.0        C  30.0   6-10   245.0   \n318  Dennis Schroder  Atlanta Hawks    17.0       PG  22.0    6-1   172.0   \n323      Jeff Teague  Atlanta Hawks     0.0       PG  27.0    6-2   186.0   \n309    Kent Bazemore  Atlanta Hawks    24.0       SF  26.0    6-5   201.0   \n311     Kirk Hinrich  Atlanta Hawks    12.0       SG  35.0    6-4   190.0   \n\n          College      Salary  \n312       Florida  12000000.0  \n318           NaN   1763400.0  \n323   Wake Forest   8000000.0  \n309  Old Dominion   2000000.0  \n311        Kansas   2854940.0  \n"
     ]
    }
   ],
   "source": [
    "print(nba.sort_values(['Team', 'Name']).head(5)) # sorts the team first then the name column"
   ]
  },
  {
   "cell_type": "code",
   "execution_count": 121,
   "metadata": {},
   "outputs": [
    {
     "name": "stdout",
     "output_type": "stream",
     "text": [
      "                Name                Team  Number Position   Age Height  \\\n379   Ramon Sessions  Washington Wizards     7.0       PG  30.0    6-3   \n378  Otto Porter Jr.  Washington Wizards    22.0       SF  23.0    6-8   \n375     Nene Hilario  Washington Wizards    42.0        C  33.0   6-11   \n376  Markieff Morris  Washington Wizards     5.0       PF  26.0   6-10   \n381  Marcus Thornton  Washington Wizards    15.0       SF  29.0    6-4   \n\n     Weight     College      Salary  \n379   190.0      Nevada   2170465.0  \n378   198.0  Georgetown   4662960.0  \n375   250.0         NaN  13000000.0  \n376   245.0      Kansas   8000000.0  \n381   205.0         LSU    200600.0  \n"
     ]
    }
   ],
   "source": [
    "print(nba.sort_values(['Team', 'Name'], ascending=False).head(5))"
   ]
  },
  {
   "cell_type": "code",
   "execution_count": 123,
   "metadata": {},
   "outputs": [
    {
     "name": "stdout",
     "output_type": "stream",
     "text": [
      "                 Name           Team  Number Position   Age Height  Weight  \\\n322    Walter Tavares  Atlanta Hawks    22.0        C  24.0    7-3   260.0   \n310  Tim Hardaway Jr.  Atlanta Hawks    10.0       SG  24.0    6-6   205.0   \n321    Tiago Splitter  Atlanta Hawks    11.0        C  31.0   6-11   245.0   \n320   Thabo Sefolosha  Atlanta Hawks    25.0       SF  32.0    6-7   220.0   \n315      Paul Millsap  Atlanta Hawks     4.0       PF  31.0    6-8   246.0   \n\n            College      Salary  \n322             NaN   1000000.0  \n310        Michigan   1304520.0  \n321             NaN   9756250.0  \n320             NaN   4000000.0  \n315  Louisiana Tech  18671659.0  \n"
     ]
    }
   ],
   "source": [
    "# will apply each boolean in the ascending to each col. \n",
    "# Team will be sorted alphabetically and name in reverse order\n",
    "# add inplace to make sure the change is applied\n",
    "print(nba.sort_values(['Team', 'Name'], ascending=[True, False]).head(5))"
   ]
  },
  {
   "cell_type": "code",
   "execution_count": 124,
   "metadata": {},
   "outputs": [],
   "source": [
    "nba = pd.read_csv(\"data/nba.csv\")"
   ]
  },
  {
   "cell_type": "code",
   "execution_count": 127,
   "metadata": {},
   "outputs": [
    {
     "name": "stdout",
     "output_type": "stream",
     "text": [
      "                 Name                  Team  Number Position   Age Height  \\\n291   Orlando Johnson  New Orleans Pelicans     0.0       SG  27.0    6-5   \n248  Andrew Goudelock       Houston Rockets     0.0       PG  27.0    6-3   \n347   Josh Richardson            Miami Heat     0.0       SG  22.0    6-6   \n266    JaMychal Green     Memphis Grizzlies     0.0       PF  25.0    6-9   \n47      Isaiah Canaan    Philadelphia 76ers     0.0       PG  25.0    6-0   \n\n     Weight           College    Salary  \n291   220.0  UC Santa Barbara   55722.0  \n248   200.0        Charleston  200600.0  \n347   200.0         Tennessee  525093.0  \n266   227.0           Alabama  845059.0  \n47    201.0      Murray State  947276.0  \n"
     ]
    }
   ],
   "source": [
    "nba.sort_values(['Number', 'Salary', 'Name'], inplace=True)\n",
    "print(nba.head(5))\n",
    "# note that the original idexes are scrambled now"
   ]
  },
  {
   "cell_type": "code",
   "execution_count": 129,
   "metadata": {},
   "outputs": [
    {
     "name": "stdout",
     "output_type": "stream",
     "text": [
      "            Name            Team  Number Position   Age Height  Weight  \\\n0  Avery Bradley  Boston Celtics     0.0       PG  25.0    6-2   180.0   \n1    Jae Crowder  Boston Celtics    99.0       SF  25.0    6-6   235.0   \n2   John Holland  Boston Celtics    30.0       SG  27.0    6-5   205.0   \n3    R.J. Hunter  Boston Celtics    28.0       SG  22.0    6-5   185.0   \n4  Jonas Jerebko  Boston Celtics     8.0       PF  29.0   6-10   231.0   \n\n             College     Salary  \n0              Texas  7730337.0  \n1          Marquette  6796117.0  \n2  Boston University        NaN  \n3      Georgia State  1148640.0  \n4                NaN  5000000.0  \n"
     ]
    }
   ],
   "source": [
    "# resets the df to the original order based on the original indexes\n",
    "nba.sort_index(inplace=True)\n",
    "print(nba.head(5))"
   ]
  },
  {
   "cell_type": "code",
   "execution_count": 130,
   "metadata": {},
   "outputs": [],
   "source": [
    "nba = pd.read_csv(\"data/nba.csv\")"
   ]
  },
  {
   "cell_type": "code",
   "execution_count": null,
   "metadata": {},
   "outputs": [],
   "source": []
  }
 ],
 "metadata": {
  "kernelspec": {
   "display_name": "Python 2",
   "language": "python",
   "name": "python2"
  },
  "language_info": {
   "codemirror_mode": {
    "name": "ipython",
    "version": 2
   },
   "file_extension": ".py",
   "mimetype": "text/x-python",
   "name": "python",
   "nbconvert_exporter": "python",
   "pygments_lexer": "ipython2",
   "version": "2.7.6"
  }
 },
 "nbformat": 4,
 "nbformat_minor": 0
}
