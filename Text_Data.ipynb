{
 "cells": [
  {
   "cell_type": "code",
   "execution_count": 5,
   "metadata": {
    "collapsed": true
   },
   "outputs": [],
   "source": [
    "import pandas as pd"
   ]
  },
  {
   "cell_type": "code",
   "execution_count": 6,
   "metadata": {},
   "outputs": [
    {
     "name": "stdout",
     "output_type": "stream",
     "text": [
      "                Name    Position Title   Department Employee Annual Salary\n0    AARON,  ELVIA J  WATER RATE TAKER  WATER MGMNT              $90744.00\n1  AARON,  JEFFERY M    POLICE OFFICER       POLICE              $84450.00\n2     AARON,  KARINA    POLICE OFFICER       POLICE              $84450.00\n"
     ]
    }
   ],
   "source": [
    "chicago = pd.read_csv('data/chicago.csv')\n",
    "chicago['Department'] = chicago['Department'].astype('category')\n",
    "print(chicago.head(3))"
   ]
  },
  {
   "cell_type": "code",
   "execution_count": 9,
   "metadata": {},
   "outputs": [
    {
     "name": "stdout",
     "output_type": "stream",
     "text": [
      "0      aaron,  elvia j\n1    aaron,  jeffery m\n2       aaron,  karina\nName: Name, dtype: object\n"
     ]
    }
   ],
   "source": [
    "print(chicago['Name'].str.lower().head(3))"
   ]
  },
  {
   "cell_type": "code",
   "execution_count": 11,
   "metadata": {},
   "outputs": [
    {
     "name": "stdout",
     "output_type": "stream",
     "text": [
      "0      Aaron,  Elvia J\n1    Aaron,  Jeffery M\n2       Aaron,  Karina\nName: Name, dtype: object\n"
     ]
    }
   ],
   "source": [
    "# .title() capatalizes the first letter in ever word in the series. \n",
    "print(chicago['Name'].str.title().head(3))"
   ]
  },
  {
   "cell_type": "code",
   "execution_count": 27,
   "metadata": {},
   "outputs": [
    {
     "name": "stdout",
     "output_type": "stream",
     "text": [
      "                Name    Position Title   Department Employee Annual Salary\n0    AARON,  ELVIA J  WATER RATE TAKER  WATER MGMNT              $90744.00\n1  AARON,  JEFFERY M    POLICE OFFICER       POLICE              $84450.00\n2     AARON,  KARINA    POLICE OFFICER       POLICE              $84450.00\n"
     ]
    }
   ],
   "source": [
    "chicago = pd.read_csv('data/chicago.csv').dropna(how = 'all')\n",
    "chicago['Department'] = chicago['Department'].astype('category')\n",
    "print(chicago.head(3))"
   ]
  },
  {
   "cell_type": "code",
   "execution_count": 28,
   "metadata": {},
   "outputs": [
    {
     "data": {
      "text/plain": [
       "0         WATER MGMNT\n1              POLICE\n2              POLICE\n3    GENERAL SERVICES\n4         WATER MGMNT\nName: Department, dtype: category\nCategories (35, object): [ADMIN HEARNG, ANIMAL CONTRL, AVIATION, BOARD OF ELECTION, ..., STREETS & SAN, TRANSPORTN, TREASURER, WATER MGMNT]"
      ]
     },
     "execution_count": 28,
     "metadata": {},
     "output_type": "execute_result"
    }
   ],
   "source": [
    "chicago['Department'].head(5)"
   ]
  },
  {
   "cell_type": "code",
   "execution_count": 29,
   "metadata": {},
   "outputs": [
    {
     "name": "stdout",
     "output_type": "stream",
     "text": [
      "0    WATER MANAGEMENT\n1              POLICE\n2              POLICE\nName: Department, dtype: object\n"
     ]
    }
   ],
   "source": [
    "chicago['Department'] = chicago['Department'].str.replace('MGMNT', 'MANAGEMENT')\n",
    "print(chicago['Department'].head(3))"
   ]
  },
  {
   "cell_type": "code",
   "execution_count": 30,
   "metadata": {},
   "outputs": [
    {
     "name": "stdout",
     "output_type": "stream",
     "text": [
      "0    $90744.00\n1    $84450.00\n2    $84450.00\nName: Employee Annual Salary, dtype: object\n"
     ]
    }
   ],
   "source": [
    "print(chicago['Employee Annual Salary'].head(3))"
   ]
  },
  {
   "cell_type": "code",
   "execution_count": 32,
   "metadata": {},
   "outputs": [
    {
     "data": {
      "text/plain": [
       "0    90744.0\n1    84450.0\n2    84450.0\nName: Employee Annual Salary, dtype: float64"
      ]
     },
     "execution_count": 32,
     "metadata": {},
     "output_type": "execute_result"
    }
   ],
   "source": [
    "chicago['Employee Annual Salary'].str.replace('$', \"\").astype(float).head(3)"
   ]
  },
  {
   "cell_type": "code",
   "execution_count": 33,
   "metadata": {},
   "outputs": [],
   "source": [
    "chicago = pd.read_csv('data/chicago.csv').dropna(how = 'all')\n",
    "chicago['Department'] = chicago['Department'].astype('category')"
   ]
  },
  {
   "cell_type": "code",
   "execution_count": 36,
   "metadata": {},
   "outputs": [
    {
     "name": "stdout",
     "output_type": "stream",
     "text": [
      "                   Name                      Position Title   Department  \\\n0       AARON,  ELVIA J                    WATER RATE TAKER  WATER MGMNT   \n554  ALUISE,  VINCENT G  FOREMAN OF WATER PIPE CONSTRUCTION  WATER MGMNT   \n671     ANDER,  PERRY A                    WATER CHEMIST II  WATER MGMNT   \n\n    Employee Annual Salary  \n0                $90744.00  \n554             $102440.00  \n671              $82044.00  \n"
     ]
    }
   ],
   "source": [
    "# Change it to lower to standardize it and make it easier to search.\n",
    "mask = chicago['Position Title'].str.lower().str.contains('water') # returns t or f if the string is found\n",
    "print(chicago[mask].head(3))"
   ]
  },
  {
   "cell_type": "code",
   "execution_count": 38,
   "metadata": {},
   "outputs": [
    {
     "data": {
      "text/plain": [
       "0     True\n1    False\n2    False\n3    False\n4    False\nName: Position Title, dtype: bool"
      ]
     },
     "execution_count": 38,
     "metadata": {},
     "output_type": "execute_result"
    }
   ],
   "source": [
    "chicago['Position Title'].str.lower().str.startswith('water').head(5)"
   ]
  },
  {
   "cell_type": "code",
   "execution_count": 41,
   "metadata": {},
   "outputs": [
    {
     "name": "stdout",
     "output_type": "stream",
     "text": [
      "                    Name    Position Title   Department Employee Annual Salary\n0        AARON,  ELVIA J  WATER RATE TAKER  WATER MGMNT              $90744.00\n671      ANDER,  PERRY A  WATER CHEMIST II  WATER MGMNT              $82044.00\n1054    ASHLEY,  KARMA T  WATER CHEMIST II  WATER MGMNT              $82044.00\n1079   ATKINS,  JOANNA M  WATER CHEMIST II  WATER MGMNT              $82044.00\n1181  AZEEM,  MOHAMMED A  WATER CHEMIST II  WATER MGMNT              $53172.00\n"
     ]
    }
   ],
   "source": [
    "print(chicago[chicago['Position Title'].str.lower().str.startswith('water')].head(5))"
   ]
  },
  {
   "cell_type": "code",
   "execution_count": 43,
   "metadata": {},
   "outputs": [
    {
     "name": "stdout",
     "output_type": "stream",
     "text": [
      "                    Name                        Position Title  \\\n184       AFROZ,  NAYYAR                          PSYCHIATRIST   \n308     ALARCON,  LUIS J            LOAN PROCESSING SPECIALIST   \n422     ALLAIN,  CAROLYN  SENIOR TELECOMMUNICATIONS SPECIALIST   \n472       ALLEN,  ROBERT                             MACHINIST   \n705  ANDERSON,  EDWARD M             SR PROCUREMENT SPECIALIST   \n\n                Department Employee Annual Salary  \n184                 HEALTH              $99840.00  \n308  COMMUNITY DEVELOPMENT              $81948.00  \n422                   DoIT              $89880.00  \n472            WATER MGMNT              $94328.00  \n705            PROCUREMENT              $91476.00  \n"
     ]
    }
   ],
   "source": [
    "mask = chicago['Position Title'].str.lower().str.endswith('ist')\n",
    "print(chicago[mask].head(5))"
   ]
  },
  {
   "cell_type": "code",
   "execution_count": 44,
   "metadata": {},
   "outputs": [],
   "source": [
    "chicago = pd.read_csv('data/chicago.csv').dropna(how = 'all')\n",
    "chicago['Department'] = chicago['Department'].astype('category')"
   ]
  },
  {
   "cell_type": "code",
   "execution_count": 45,
   "metadata": {},
   "outputs": [
    {
     "data": {
      "text/plain": [
       "'hello          '"
      ]
     },
     "execution_count": 45,
     "metadata": {},
     "output_type": "execute_result"
    }
   ],
   "source": [
    "'       hello          '.lstrip()"
   ]
  },
  {
   "cell_type": "code",
   "execution_count": 46,
   "metadata": {},
   "outputs": [
    {
     "data": {
      "text/plain": [
       "'hello'"
      ]
     },
     "execution_count": 46,
     "metadata": {},
     "output_type": "execute_result"
    }
   ],
   "source": [
    "'hello      '.rstrip()"
   ]
  },
  {
   "cell_type": "code",
   "execution_count": 47,
   "metadata": {},
   "outputs": [
    {
     "data": {
      "text/plain": [
       "'hello'"
      ]
     },
     "execution_count": 47,
     "metadata": {},
     "output_type": "execute_result"
    }
   ],
   "source": [
    "\"     hello   \".strip()"
   ]
  },
  {
   "cell_type": "code",
   "execution_count": 48,
   "metadata": {},
   "outputs": [
    {
     "data": {
      "text/plain": [
       "0        AARON,  ELVIA J\n1      AARON,  JEFFERY M\n2         AARON,  KARINA\n3    AARON,  KIMBERLEI R\n4    ABAD JR,  VICENTE M\nName: Name, dtype: object"
      ]
     },
     "execution_count": 48,
     "metadata": {},
     "output_type": "execute_result"
    }
   ],
   "source": [
    "chicago['Name'].head(5)"
   ]
  },
  {
   "cell_type": "code",
   "execution_count": 50,
   "metadata": {},
   "outputs": [
    {
     "data": {
      "text/plain": [
       "0        AARON,  ELVIA J\n1      AARON,  JEFFERY M\n2         AARON,  KARINA\n3    AARON,  KIMBERLEI R\n4    ABAD JR,  VICENTE M\nName: Name, dtype: object"
      ]
     },
     "execution_count": 50,
     "metadata": {},
     "output_type": "execute_result"
    }
   ],
   "source": [
    "chicago['Name'].str.strip().head(5)"
   ]
  },
  {
   "cell_type": "code",
   "execution_count": 52,
   "metadata": {},
   "outputs": [
    {
     "name": "stdout",
     "output_type": "stream",
     "text": [
      "                     Position Title   Department Employee Annual Salary\nName                                                                   \nAARON,  ELVIA J    WATER RATE TAKER  WATER MGMNT              $90744.00\nAARON,  JEFFERY M    POLICE OFFICER       POLICE              $84450.00\nAARON,  KARINA       POLICE OFFICER       POLICE              $84450.00\n"
     ]
    }
   ],
   "source": [
    "chicago = pd.read_csv('data/chicago.csv', index_col='Name').dropna(how = 'all')\n",
    "chicago['Department'] = chicago['Department'].astype('category')\n",
    "print(chicago.head(3))"
   ]
  },
  {
   "cell_type": "code",
   "execution_count": 53,
   "metadata": {},
   "outputs": [
    {
     "data": {
      "text/plain": [
       "Index(['AARON,  ELVIA J', 'AARON,  JEFFERY M', 'AARON,  KARINA',\n       'AARON,  KIMBERLEI R', 'ABAD JR,  VICENTE M', 'ABARCA,  ANABEL',\n       'ABARCA,  EMMANUEL', 'ABASCAL,  REECE E', 'ABBASI,  CHRISTOPHER',\n       'ABBATACOLA,  ROBERT J',\n       ...\n       'ZWIT,  JEFFREY J', 'ZWOLFER,  MATTHEW W', 'ZYCH,  MATEUSZ',\n       'ZYDEK,  BRYAN', 'ZYGADLO,  JOHN P', 'ZYGADLO,  MICHAEL J',\n       'ZYGOWICZ,  PETER J', 'ZYMANTAS,  MARK E', 'ZYRKOWSKI,  CARLO E',\n       'ZYSKOWSKI,  DARIUSZ'],\n      dtype='object', name='Name', length=32062)"
      ]
     },
     "execution_count": 53,
     "metadata": {},
     "output_type": "execute_result"
    }
   ],
   "source": [
    "chicago.index"
   ]
  },
  {
   "cell_type": "code",
   "execution_count": 57,
   "metadata": {},
   "outputs": [
    {
     "name": "stdout",
     "output_type": "stream",
     "text": [
      "                     Position Title   Department Employee Annual Salary\nName                                                                   \nAaron,  Elvia J    WATER RATE TAKER  WATER MGMNT              $90744.00\nAaron,  Jeffery M    POLICE OFFICER       POLICE              $84450.00\nAaron,  Karina       POLICE OFFICER       POLICE              $84450.00\n"
     ]
    }
   ],
   "source": [
    "chicago.index = chicago.index.str.strip().str.title()\n",
    "print(chicago.head(3))"
   ]
  },
  {
   "cell_type": "code",
   "execution_count": 61,
   "metadata": {},
   "outputs": [
    {
     "name": "stdout",
     "output_type": "stream",
     "text": [
      "                     POSITION TITLE   DEPARTMENT EMPLOYEE ANNUAL SALARY\nName                                                                   \nAaron,  Elvia J    WATER RATE TAKER  WATER MGMNT              $90744.00\nAaron,  Jeffery M    POLICE OFFICER       POLICE              $84450.00\nAaron,  Karina       POLICE OFFICER       POLICE              $84450.00\n"
     ]
    }
   ],
   "source": [
    "chicago.columns = chicago.columns.str.upper()\n",
    "print(chicago.head(3))"
   ]
  },
  {
   "cell_type": "code",
   "execution_count": 70,
   "metadata": {},
   "outputs": [
    {
     "name": "stdout",
     "output_type": "stream",
     "text": [
      "                Name    Position Title   Department Employee Annual Salary\n0    AARON,  ELVIA J  WATER RATE TAKER  WATER MGMNT              $90744.00\n1  AARON,  JEFFERY M    POLICE OFFICER       POLICE              $84450.00\n2     AARON,  KARINA    POLICE OFFICER       POLICE              $84450.00\n"
     ]
    }
   ],
   "source": [
    "chicago = pd.read_csv('data/chicago.csv').dropna(how = 'all')\n",
    "chicago['Department'] = chicago['Department'].astype('category')\n",
    "print(chicago.head(3))"
   ]
  },
  {
   "cell_type": "code",
   "execution_count": 72,
   "metadata": {},
   "outputs": [
    {
     "data": {
      "text/plain": [
       "0        [AARON,   ELVIA J]\n1      [AARON,   JEFFERY M]\n2         [AARON,   KARINA]\n3    [AARON,   KIMBERLEI R]\n4    [ABAD JR,   VICENTE M]\nName: Name, dtype: object"
      ]
     },
     "execution_count": 72,
     "metadata": {},
     "output_type": "execute_result"
    }
   ],
   "source": [
    "chicago['Name'].str.split(\",\").head(5)"
   ]
  },
  {
   "cell_type": "code",
   "execution_count": null,
   "metadata": {},
   "outputs": [],
   "source": []
  }
 ],
 "metadata": {
  "kernelspec": {
   "display_name": "Python 2",
   "language": "python",
   "name": "python2"
  },
  "language_info": {
   "codemirror_mode": {
    "name": "ipython",
    "version": 2
   },
   "file_extension": ".py",
   "mimetype": "text/x-python",
   "name": "python",
   "nbconvert_exporter": "python",
   "pygments_lexer": "ipython2",
   "version": "2.7.6"
  }
 },
 "nbformat": 4,
 "nbformat_minor": 0
}
