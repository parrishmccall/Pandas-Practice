{
 "cells": [
  {
   "cell_type": "code",
   "execution_count": 5,
   "metadata": {
    "collapsed": true
   },
   "outputs": [],
   "source": [
    "import pandas as pd"
   ]
  },
  {
   "cell_type": "code",
   "execution_count": 4,
   "metadata": {},
   "outputs": [
    {
     "name": "stdout",
     "output_type": "stream",
     "text": [
      "                    Film  Year         Actor       Director  Box Office  \\\n0                 Dr. No  1962  Sean Connery  Terence Young       448.8   \n1  From Russia with Love  1963  Sean Connery  Terence Young       543.8   \n2             Goldfinger  1964  Sean Connery   Guy Hamilton       820.4   \n\n   Budget  Bond Actor Salary  \n0     7.0                0.6  \n1    12.6                1.6  \n2    18.6                3.2  \n"
     ]
    }
   ],
   "source": [
    "bond = pd.read_csv('data/jamesbond.csv')\n",
    "print(bond.head(3))"
   ]
  },
  {
   "cell_type": "code",
   "execution_count": 6,
   "metadata": {},
   "outputs": [
    {
     "name": "stdout",
     "output_type": "stream",
     "text": [
      "                       Year         Actor       Director  Box Office  Budget  \\\nFilm                                                                           \nDr. No                 1962  Sean Connery  Terence Young       448.8     7.0   \nFrom Russia with Love  1963  Sean Connery  Terence Young       543.8    12.6   \nGoldfinger             1964  Sean Connery   Guy Hamilton       820.4    18.6   \nThunderball            1965  Sean Connery  Terence Young       848.1    41.9   \nCasino Royale          1967   David Niven     Ken Hughes       315.0    85.0   \n\n                       Bond Actor Salary  \nFilm                                      \nDr. No                               0.6  \nFrom Russia with Love                1.6  \nGoldfinger                           3.2  \nThunderball                          4.7  \nCasino Royale                        NaN  \n"
     ]
    }
   ],
   "source": [
    "bond.set_index('Film', inplace=True)\n",
    "print(bond.head())\n",
    "# If you change the index you have to reset it first otherwise it will delete old index"
   ]
  },
  {
   "cell_type": "code",
   "execution_count": 7,
   "metadata": {},
   "outputs": [
    {
     "name": "stdout",
     "output_type": "stream",
     "text": [
      "                    Film  Year         Actor       Director  Box Office  \\\n0                 Dr. No  1962  Sean Connery  Terence Young       448.8   \n1  From Russia with Love  1963  Sean Connery  Terence Young       543.8   \n2             Goldfinger  1964  Sean Connery   Guy Hamilton       820.4   \n3            Thunderball  1965  Sean Connery  Terence Young       848.1   \n4          Casino Royale  1967   David Niven     Ken Hughes       315.0   \n\n   Budget  Bond Actor Salary  \n0     7.0                0.6  \n1    12.6                1.6  \n2    18.6                3.2  \n3    41.9                4.7  \n4    85.0                NaN  \n"
     ]
    }
   ],
   "source": [
    "bond.reset_index(inplace=True) # drop= True will delete the current index when you reset it\n",
    "print(bond.head())"
   ]
  },
  {
   "cell_type": "code",
   "execution_count": 8,
   "metadata": {},
   "outputs": [
    {
     "name": "stdout",
     "output_type": "stream",
     "text": [
      "                  Year         Actor         Director  Box Office  Budget  \\\nFilm                                                                        \nA View to a Kill  1985   Roger Moore        John Glen       275.2    54.5   \nCasino Royale     2006  Daniel Craig  Martin Campbell       581.5   145.3   \nCasino Royale     1967   David Niven       Ken Hughes       315.0    85.0   \n\n                  Bond Actor Salary  \nFilm                                 \nA View to a Kill                9.1  \nCasino Royale                   3.3  \nCasino Royale                   NaN  \n"
     ]
    }
   ],
   "source": [
    "bond = pd.read_csv('data/jamesbond.csv', index_col='Film')\n",
    "bond.sort_index(inplace=True)\n",
    "print(bond.head(3))"
   ]
  },
  {
   "cell_type": "code",
   "execution_count": 9,
   "metadata": {},
   "outputs": [
    {
     "data": {
      "text/plain": [
       "Year                         1964\nActor                Sean Connery\nDirector             Guy Hamilton\nBox Office                  820.4\nBudget                       18.6\nBond Actor Salary             3.2\nName: Goldfinger, dtype: object"
      ]
     },
     "execution_count": 9,
     "metadata": {},
     "output_type": "execute_result"
    }
   ],
   "source": [
    "bond.loc['Goldfinger'] # This is for finding the key among the index labels. \n",
    "# Always sort the index. "
   ]
  },
  {
   "cell_type": "code",
   "execution_count": 11,
   "metadata": {},
   "outputs": [
    {
     "name": "stdout",
     "output_type": "stream",
     "text": [
      "                       Year           Actor         Director  Box Office  \\\nFilm                                                                       \nDiamonds Are Forever   1971    Sean Connery     Guy Hamilton       442.5   \nDie Another Day        2002  Pierce Brosnan     Lee Tamahori       465.4   \nDr. No                 1962    Sean Connery    Terence Young       448.8   \nFor Your Eyes Only     1981     Roger Moore        John Glen       449.4   \nFrom Russia with Love  1963    Sean Connery    Terence Young       543.8   \nGoldenEye              1995  Pierce Brosnan  Martin Campbell       518.5   \nGoldfinger             1964    Sean Connery     Guy Hamilton       820.4   \nLicence to Kill        1989  Timothy Dalton        John Glen       250.9   \nLive and Let Die       1973     Roger Moore     Guy Hamilton       460.3   \nMoonraker              1979     Roger Moore    Lewis Gilbert       535.0   \n\n                       Budget  Bond Actor Salary  \nFilm                                              \nDiamonds Are Forever     34.7                5.8  \nDie Another Day         154.2               17.9  \nDr. No                    7.0                0.6  \nFor Your Eyes Only       60.2                NaN  \nFrom Russia with Love    12.6                1.6  \nGoldenEye                76.9                5.1  \nGoldfinger               18.6                3.2  \nLicence to Kill          56.7                7.9  \nLive and Let Die         30.8                NaN  \nMoonraker                91.5                NaN  \n"
     ]
    }
   ],
   "source": [
    "print(bond.loc['Diamonds Are Forever' : 'Moonraker'])"
   ]
  },
  {
   "cell_type": "code",
   "execution_count": 12,
   "metadata": {},
   "outputs": [
    {
     "name": "stdout",
     "output_type": "stream",
     "text": [
      "                                 Year           Actor            Director  \\\nFilm                                                                        \nGoldfinger                       1964    Sean Connery        Guy Hamilton   \nLicence to Kill                  1989  Timothy Dalton           John Glen   \nLive and Let Die                 1973     Roger Moore        Guy Hamilton   \nMoonraker                        1979     Roger Moore       Lewis Gilbert   \nNever Say Never Again            1983    Sean Connery      Irvin Kershner   \nOctopussy                        1983     Roger Moore           John Glen   \nOn Her Majesty's Secret Service  1969  George Lazenby       Peter R. Hunt   \nQuantum of Solace                2008    Daniel Craig        Marc Forster   \nSkyfall                          2012    Daniel Craig          Sam Mendes   \nSpectre                          2015    Daniel Craig          Sam Mendes   \nThe Living Daylights             1987  Timothy Dalton           John Glen   \nThe Man with the Golden Gun      1974     Roger Moore        Guy Hamilton   \nThe Spy Who Loved Me             1977     Roger Moore       Lewis Gilbert   \nThe World Is Not Enough          1999  Pierce Brosnan       Michael Apted   \nThunderball                      1965    Sean Connery       Terence Young   \nTomorrow Never Dies              1997  Pierce Brosnan  Roger Spottiswoode   \nYou Only Live Twice              1967    Sean Connery       Lewis Gilbert   \n\n                                 Box Office  Budget  Bond Actor Salary  \nFilm                                                                    \nGoldfinger                            820.4    18.6                3.2  \nLicence to Kill                       250.9    56.7                7.9  \nLive and Let Die                      460.3    30.8                NaN  \nMoonraker                             535.0    91.5                NaN  \nNever Say Never Again                 380.0    86.0                NaN  \nOctopussy                             373.8    53.9                7.8  \nOn Her Majesty's Secret Service       291.5    37.3                0.6  \nQuantum of Solace                     514.2   181.4                8.1  \nSkyfall                               943.5   170.2               14.5  \nSpectre                               726.7   206.3                NaN  \nThe Living Daylights                  313.5    68.8                5.2  \nThe Man with the Golden Gun           334.0    27.7                NaN  \nThe Spy Who Loved Me                  533.0    45.1                NaN  \nThe World Is Not Enough               439.5   158.3               13.5  \nThunderball                           848.1    41.9                4.7  \nTomorrow Never Dies                   463.2   133.9               10.0  \nYou Only Live Twice                   514.2    59.9                4.4  \n"
     ]
    }
   ],
   "source": [
    "print(bond.loc['Goldeneye':])"
   ]
  },
  {
   "cell_type": "code",
   "execution_count": 13,
   "metadata": {},
   "outputs": [
    {
     "name": "stdout",
     "output_type": "stream",
     "text": [
      "           Year        Actor       Director  Box Office  Budget  \\\nFilm                                                              \nMoonraker  1979  Roger Moore  Lewis Gilbert       535.0    91.5   \nOctopussy  1983  Roger Moore      John Glen       373.8    53.9   \n\n           Bond Actor Salary  \nFilm                          \nMoonraker                NaN  \nOctopussy                7.8  \n"
     ]
    }
   ],
   "source": [
    "print(bond.loc[['Moonraker' , 'Octopussy']])"
   ]
  },
  {
   "cell_type": "code",
   "execution_count": 14,
   "metadata": {},
   "outputs": [
    {
     "name": "stdout",
     "output_type": "stream",
     "text": [
      "                      Year        Actor      Director  Box Office  Budget  \\\nFilm                                                                        \nFor Your Eyes Only  1981.0  Roger Moore     John Glen       449.4    60.2   \nLive and Let Die    1973.0  Roger Moore  Guy Hamilton       460.3    30.8   \nGold Member            NaN          NaN           NaN         NaN     NaN   \n\n                    Bond Actor Salary  \nFilm                                   \nFor Your Eyes Only                NaN  \nLive and Let Die                  NaN  \nGold Member                       NaN  \n"
     ]
    },
    {
     "name": "stderr",
     "output_type": "stream",
     "text": [
      "C:\\Users\\PMac\\Anaconda3\\lib\\site-packages\\ipykernel_launcher.py:1: FutureWarning: \nPassing list-likes to .loc or [] with any missing label will raise\nKeyError in the future, you can use .reindex() as an alternative.\n\nSee the documentation here:\nhttp://pandas.pydata.org/pandas-docs/stable/indexing.html#deprecate-loc-reindex-listlike\n  \"\"\"Entry point for launching an IPython kernel.\n"
     ]
    }
   ],
   "source": [
    "print(bond.loc[['For Your Eyes Only', 'Live and Let Die', 'Gold Member']]) \n",
    "# gold member doesn't exist so it returns null values. "
   ]
  },
  {
   "cell_type": "code",
   "execution_count": 15,
   "metadata": {},
   "outputs": [
    {
     "data": {
      "text/plain": [
       "False"
      ]
     },
     "execution_count": 15,
     "metadata": {},
     "output_type": "execute_result"
    }
   ],
   "source": [
    "'Gold Member' in bond.index"
   ]
  },
  {
   "cell_type": "code",
   "execution_count": 6,
   "metadata": {},
   "outputs": [],
   "source": [
    "bond = pd.read_csv('data/jamesbond.csv')"
   ]
  },
  {
   "cell_type": "code",
   "execution_count": 7,
   "metadata": {},
   "outputs": [
    {
     "name": "stdout",
     "output_type": "stream",
     "text": [
      "Film                   Goldfinger\nYear                         1964\nActor                Sean Connery\nDirector             Guy Hamilton\nBox Office                  820.4\nBudget                       18.6\nBond Actor Salary             3.2\nName: 2, dtype: object\n"
     ]
    }
   ],
   "source": [
    "print(bond.iloc[2])"
   ]
  },
  {
   "cell_type": "code",
   "execution_count": 8,
   "metadata": {},
   "outputs": [
    {
     "name": "stdout",
     "output_type": "stream",
     "text": [
      "                    Film  Year         Actor       Director  Box Office  \\\n0                 Dr. No  1962  Sean Connery  Terence Young       448.8   \n1  From Russia with Love  1963  Sean Connery  Terence Young       543.8   \n2             Goldfinger  1964  Sean Connery   Guy Hamilton       820.4   \n\n   Budget  Bond Actor Salary  \n0     7.0                0.6  \n1    12.6                1.6  \n2    18.6                3.2  \n"
     ]
    }
   ],
   "source": [
    "print(bond.iloc[:3])"
   ]
  },
  {
   "cell_type": "code",
   "execution_count": 9,
   "metadata": {},
   "outputs": [
    {
     "name": "stdout",
     "output_type": "stream",
     "text": [
      "                  Year         Actor         Director  Box Office  Budget  \\\nFilm                                                                        \nA View to a Kill  1985   Roger Moore        John Glen       275.2    54.5   \nCasino Royale     2006  Daniel Craig  Martin Campbell       581.5   145.3   \nCasino Royale     1967   David Niven       Ken Hughes       315.0    85.0   \n\n                  Bond Actor Salary  \nFilm                                 \nA View to a Kill                9.1  \nCasino Royale                   3.3  \nCasino Royale                   NaN  \n"
     ]
    }
   ],
   "source": [
    "bond = pd.read_csv('data/jamesbond.csv', index_col='Film')\n",
    "bond.sort_index(inplace=True)\n",
    "print(bond.head(3))"
   ]
  },
  {
   "cell_type": "code",
   "execution_count": 10,
   "metadata": {},
   "outputs": [
    {
     "name": "stdout",
     "output_type": "stream",
     "text": [
      "Year                        1985\nActor                Roger Moore\nDirector               John Glen\nBox Office                 275.2\nBudget                      54.5\nBond Actor Salary            9.1\nName: A View to a Kill, dtype: object\n"
     ]
    }
   ],
   "source": [
    "print(bond.iloc[0])"
   ]
  },
  {
   "cell_type": "code",
   "execution_count": 11,
   "metadata": {},
   "outputs": [
    {
     "name": "stdout",
     "output_type": "stream",
     "text": [
      "                                 Year           Actor       Director  \\\nFilm                                                                   \nDr. No                           1962    Sean Connery  Terence Young   \nLicence to Kill                  1989  Timothy Dalton      John Glen   \nOn Her Majesty's Secret Service  1969  George Lazenby  Peter R. Hunt   \n\n                                 Box Office  Budget  Bond Actor Salary  \nFilm                                                                    \nDr. No                                448.8     7.0                0.6  \nLicence to Kill                       250.9    56.7                7.9  \nOn Her Majesty's Secret Service       291.5    37.3                0.6  \n"
     ]
    }
   ],
   "source": [
    "print(bond.iloc[[5,10,15]])"
   ]
  },
  {
   "cell_type": "code",
   "execution_count": 12,
   "metadata": {},
   "outputs": [
    {
     "name": "stdout",
     "output_type": "stream",
     "text": [
      "                  Year         Actor         Director  Box Office  Budget  \\\nFilm                                                                        \nA View to a Kill  1985   Roger Moore        John Glen       275.2    54.5   \nCasino Royale     2006  Daniel Craig  Martin Campbell       581.5   145.3   \nCasino Royale     1967   David Niven       Ken Hughes       315.0    85.0   \n\n                  Bond Actor Salary  \nFilm                                 \nA View to a Kill                9.1  \nCasino Royale                   3.3  \nCasino Royale                   NaN  \n"
     ]
    }
   ],
   "source": [
    "bond = pd.read_csv('data/jamesbond.csv', index_col='Film')\n",
    "bond.sort_index(inplace=True)\n",
    "print(bond.head(3))"
   ]
  },
  {
   "cell_type": "code",
   "execution_count": 13,
   "metadata": {},
   "outputs": [
    {
     "name": "stderr",
     "output_type": "stream",
     "text": [
      "C:\\Users\\PMac\\Anaconda3\\lib\\site-packages\\ipykernel_launcher.py:3: DeprecationWarning: \n.ix is deprecated. Please use\n.loc for label based indexing or\n.iloc for positional indexing\n\nSee the documentation here:\nhttp://pandas.pydata.org/pandas-docs/stable/indexing.html#ix-indexer-is-deprecated\n  This is separate from the ipykernel package so we can avoid doing imports until\n"
     ]
    },
    {
     "data": {
      "text/plain": [
       "Year                            1995\nActor                 Pierce Brosnan\nDirector             Martin Campbell\nBox Office                     518.5\nBudget                          76.9\nBond Actor Salary                5.1\nName: GoldenEye, dtype: object"
      ]
     },
     "execution_count": 13,
     "metadata": {},
     "output_type": "execute_result"
    }
   ],
   "source": [
    "# .ix allows you to get by index label or index position\n",
    "\n",
    "bond.ix['GoldenEye']"
   ]
  },
  {
   "cell_type": "code",
   "execution_count": 15,
   "metadata": {},
   "outputs": [
    {
     "name": "stdout",
     "output_type": "stream",
     "text": [
      "                      Year         Actor       Director  Box Office  Budget  \\\nFilm                                                                          \nDiamonds Are Forever  1971  Sean Connery   Guy Hamilton       442.5    34.7   \nMoonraker             1979   Roger Moore  Lewis Gilbert       535.0    91.5   \n\n                      Bond Actor Salary  \nFilm                                     \nDiamonds Are Forever                5.8  \nMoonraker                           NaN  \n"
     ]
    }
   ],
   "source": [
    "print(bond.ix[['Diamonds Are Forever', 'Moonraker']])"
   ]
  },
  {
   "cell_type": "code",
   "execution_count": 16,
   "metadata": {},
   "outputs": [
    {
     "name": "stdout",
     "output_type": "stream",
     "text": [
      "                      Year           Actor         Director  Box Office  \\\nFilm                                                                      \nA View to a Kill      1985     Roger Moore        John Glen       275.2   \nCasino Royale         2006    Daniel Craig  Martin Campbell       581.5   \nCasino Royale         1967     David Niven       Ken Hughes       315.0   \nDiamonds Are Forever  1971    Sean Connery     Guy Hamilton       442.5   \nDie Another Day       2002  Pierce Brosnan     Lee Tamahori       465.4   \n\n                      Budget  Bond Actor Salary  \nFilm                                             \nA View to a Kill        54.5                9.1  \nCasino Royale          145.3                3.3  \nCasino Royale           85.0                NaN  \nDiamonds Are Forever    34.7                5.8  \nDie Another Day        154.2               17.9  \n"
     ]
    }
   ],
   "source": [
    "# the final value in a slice like this is exclusive\n",
    "\n",
    "print(bond.ix[0:5])"
   ]
  },
  {
   "cell_type": "code",
   "execution_count": 18,
   "metadata": {},
   "outputs": [
    {
     "name": "stdout",
     "output_type": "stream",
     "text": [
      "                Year         Actor    Director  Box Office  Budget  \\\nFilm                                                                 \nSpectre       2015.0  Daniel Craig  Sam Mendes       726.7   206.3   \nBond Nothing     NaN           NaN         NaN         NaN     NaN   \n\n              Bond Actor Salary  \nFilm                             \nSpectre                     NaN  \nBond Nothing                NaN  \n"
     ]
    }
   ],
   "source": [
    "# if you enter a list and at least one of the items exists it will return the values for \n",
    "# the ones that don't exist as NaN's\n",
    "\n",
    "print(bond.ix[['Spectre', 'Bond Nothing']])\n"
   ]
  },
  {
   "cell_type": "code",
   "execution_count": 19,
   "metadata": {},
   "outputs": [
    {
     "name": "stdout",
     "output_type": "stream",
     "text": [
      "                  Year         Actor         Director  Box Office  Budget  \\\nFilm                                                                        \nA View to a Kill  1985   Roger Moore        John Glen       275.2    54.5   \nCasino Royale     2006  Daniel Craig  Martin Campbell       581.5   145.3   \nCasino Royale     1967   David Niven       Ken Hughes       315.0    85.0   \n\n                  Bond Actor Salary  \nFilm                                 \nA View to a Kill                9.1  \nCasino Royale                   3.3  \nCasino Royale                   NaN  \n"
     ]
    }
   ],
   "source": [
    "bond = pd.read_csv('data/jamesbond.csv', index_col='Film')\n",
    "bond.sort_index(inplace=True)\n",
    "print(bond.head(3))"
   ]
  },
  {
   "cell_type": "code",
   "execution_count": 20,
   "metadata": {},
   "outputs": [
    {
     "data": {
      "text/plain": [
       "'Roger Moore'"
      ]
     },
     "execution_count": 20,
     "metadata": {},
     "output_type": "execute_result"
    }
   ],
   "source": [
    "# loc can take a column name as an argument\n",
    "\n",
    "bond.loc['Moonraker', 'Actor']"
   ]
  },
  {
   "cell_type": "code",
   "execution_count": 21,
   "metadata": {},
   "outputs": [
    {
     "data": {
      "text/plain": [
       "Actor         Roger Moore\nDirector    Lewis Gilbert\nName: Moonraker, dtype: object"
      ]
     },
     "execution_count": 21,
     "metadata": {},
     "output_type": "execute_result"
    }
   ],
   "source": [
    "bond.loc['Moonraker', 'Actor': 'Director']"
   ]
  },
  {
   "cell_type": "code",
   "execution_count": 25,
   "metadata": {},
   "outputs": [
    {
     "name": "stdout",
     "output_type": "stream",
     "text": [
      "                      Actor         Director  Box Office\nFilm                                                    \nCasino Royale  Daniel Craig  Martin Campbell       581.5\nCasino Royale   David Niven       Ken Hughes       315.0\n"
     ]
    }
   ],
   "source": [
    "# when using iloc the columns have their own index\n",
    "\n",
    "print(bond.iloc[1:3,1:4])"
   ]
  },
  {
   "cell_type": "code",
   "execution_count": 27,
   "metadata": {},
   "outputs": [
    {
     "name": "stdout",
     "output_type": "stream",
     "text": [
      "27.7\n"
     ]
    }
   ],
   "source": [
    "print(bond.ix[20,'Budget'])"
   ]
  },
  {
   "cell_type": "code",
   "execution_count": 30,
   "metadata": {},
   "outputs": [
    {
     "name": "stdout",
     "output_type": "stream",
     "text": [
      "Director      Martin Campbell\nBox Office              518.5\nName: GoldenEye, dtype: object\n"
     ]
    }
   ],
   "source": [
    "print(bond.ix['GoldenEye', 2:4])"
   ]
  },
  {
   "cell_type": "code",
   "execution_count": 31,
   "metadata": {},
   "outputs": [
    {
     "data": {
      "text/plain": [
       "Year                          1962\nActor                 Sean Connery\nDirector             Terence Young\nBox Office                   448.8\nBudget                           7\nBond Actor Salary              0.6\nName: Dr. No, dtype: object"
      ]
     },
     "execution_count": 31,
     "metadata": {},
     "output_type": "execute_result"
    }
   ],
   "source": [
    "# How to set a new value for a specific value in a cell or row. \n",
    "\n",
    "bond.ix['Dr. No']\n"
   ]
  },
  {
   "cell_type": "code",
   "execution_count": 32,
   "metadata": {},
   "outputs": [],
   "source": [
    "bond.ix['Dr. No', 'Actor'] = 'Brad Pitt'"
   ]
  },
  {
   "cell_type": "code",
   "execution_count": 33,
   "metadata": {},
   "outputs": [
    {
     "name": "stdout",
     "output_type": "stream",
     "text": [
      "Brad Pitt\n"
     ]
    }
   ],
   "source": [
    "print(bond.ix['Dr. No', 'Actor'])"
   ]
  },
  {
   "cell_type": "code",
   "execution_count": 36,
   "metadata": {},
   "outputs": [],
   "source": [
    "bond.ix['Dr. No', ['Box Office', 'Budget', 'Bond Actor Salary']] = ['10', '10', '3.50']"
   ]
  },
  {
   "cell_type": "code",
   "execution_count": 37,
   "metadata": {},
   "outputs": [
    {
     "name": "stdout",
     "output_type": "stream",
     "text": [
      "Year                          1962\nActor                    Brad Pitt\nDirector             Terence Young\nBox Office                      10\nBudget                          10\nBond Actor Salary             3.50\nName: Dr. No, dtype: object\n"
     ]
    }
   ],
   "source": [
    "print(bond.ix['Dr. No'])"
   ]
  },
  {
   "cell_type": "code",
   "execution_count": 38,
   "metadata": {},
   "outputs": [
    {
     "name": "stdout",
     "output_type": "stream",
     "text": [
      "                  Year         Actor         Director  Box Office  Budget  \\\nFilm                                                                        \nA View to a Kill  1985   Roger Moore        John Glen       275.2    54.5   \nCasino Royale     2006  Daniel Craig  Martin Campbell       581.5   145.3   \nCasino Royale     1967   David Niven       Ken Hughes       315.0    85.0   \n\n                  Bond Actor Salary  \nFilm                                 \nA View to a Kill                9.1  \nCasino Royale                   3.3  \nCasino Royale                   NaN  \n"
     ]
    }
   ],
   "source": [
    "bond = pd.read_csv('data/jamesbond.csv', index_col='Film')\n",
    "bond.sort_index(inplace=True)\n",
    "print(bond.head(3))"
   ]
  },
  {
   "cell_type": "code",
   "execution_count": 41,
   "metadata": {},
   "outputs": [],
   "source": [
    "# Boolean series of true false indication sean connery as actor\n",
    "\n",
    "mask = bond['Actor'] == 'Sean Connery'"
   ]
  },
  {
   "cell_type": "code",
   "execution_count": 42,
   "metadata": {},
   "outputs": [
    {
     "data": {
      "text/plain": [
       "Film\nDiamonds Are Forever     Sean Connery\nDr. No                   Sean Connery\nFrom Russia with Love    Sean Connery\nGoldfinger               Sean Connery\nNever Say Never Again    Sean Connery\nThunderball              Sean Connery\nYou Only Live Twice      Sean Connery\nName: Actor, dtype: object"
      ]
     },
     "execution_count": 42,
     "metadata": {},
     "output_type": "execute_result"
    }
   ],
   "source": [
    "bond[mask]['Actor']"
   ]
  },
  {
   "cell_type": "code",
   "execution_count": 43,
   "metadata": {},
   "outputs": [
    {
     "name": "stderr",
     "output_type": "stream",
     "text": [
      "C:\\Users\\PMac\\Anaconda3\\lib\\site-packages\\ipykernel_launcher.py:1: SettingWithCopyWarning: \nA value is trying to be set on a copy of a slice from a DataFrame.\nTry using .loc[row_indexer,col_indexer] = value instead\n\nSee the caveats in the documentation: http://pandas.pydata.org/pandas-docs/stable/indexing.html#indexing-view-versus-copy\n  \"\"\"Entry point for launching an IPython kernel.\n"
     ]
    }
   ],
   "source": [
    "# This is wrong. This creates a copy of the original dataframe, doesn't change the original dataframe\n",
    "bond[mask]['Actor'] = 'Sir Sean Connery'"
   ]
  },
  {
   "cell_type": "code",
   "execution_count": 47,
   "metadata": {},
   "outputs": [
    {
     "name": "stdout",
     "output_type": "stream",
     "text": [
      "                       Year           Actor         Director  Box Office  \\\nFilm                                                                       \nA View to a Kill       1985     Roger Moore        John Glen       275.2   \nCasino Royale          2006    Daniel Craig  Martin Campbell       581.5   \nCasino Royale          1967     David Niven       Ken Hughes       315.0   \nDiamonds Are Forever   1971    Sean Connery     Guy Hamilton       442.5   \nDie Another Day        2002  Pierce Brosnan     Lee Tamahori       465.4   \nDr. No                 1962    Sean Connery    Terence Young       448.8   \nFor Your Eyes Only     1981     Roger Moore        John Glen       449.4   \nFrom Russia with Love  1963    Sean Connery    Terence Young       543.8   \nGoldenEye              1995  Pierce Brosnan  Martin Campbell       518.5   \nGoldfinger             1964    Sean Connery     Guy Hamilton       820.4   \n\n                       Budget  Bond Actor Salary  \nFilm                                              \nA View to a Kill         54.5                9.1  \nCasino Royale           145.3                3.3  \nCasino Royale            85.0                NaN  \nDiamonds Are Forever     34.7                5.8  \nDie Another Day         154.2               17.9  \nDr. No                    7.0                0.6  \nFor Your Eyes Only       60.2                NaN  \nFrom Russia with Love    12.6                1.6  \nGoldenEye                76.9                5.1  \nGoldfinger               18.6                3.2  \n"
     ]
    }
   ],
   "source": [
    "# note the values have not changed\n",
    "print(bond.head(10))"
   ]
  },
  {
   "cell_type": "code",
   "execution_count": 48,
   "metadata": {},
   "outputs": [
    {
     "name": "stdout",
     "output_type": "stream",
     "text": [
      "                       Year             Actor        Director  Box Office  \\\nFilm                                                                        \nDiamonds Are Forever   1971  Sir Sean Connery    Guy Hamilton       442.5   \nDr. No                 1962  Sir Sean Connery   Terence Young       448.8   \nFrom Russia with Love  1963  Sir Sean Connery   Terence Young       543.8   \nGoldfinger             1964  Sir Sean Connery    Guy Hamilton       820.4   \nNever Say Never Again  1983  Sir Sean Connery  Irvin Kershner       380.0   \nThunderball            1965  Sir Sean Connery   Terence Young       848.1   \nYou Only Live Twice    1967  Sir Sean Connery   Lewis Gilbert       514.2   \n\n                       Budget  Bond Actor Salary  \nFilm                                              \nDiamonds Are Forever     34.7                5.8  \nDr. No                    7.0                0.6  \nFrom Russia with Love    12.6                1.6  \nGoldfinger               18.6                3.2  \nNever Say Never Again    86.0                NaN  \nThunderball              41.9                4.7  \nYou Only Live Twice      59.9                4.4  \n"
     ]
    },
    {
     "name": "stderr",
     "output_type": "stream",
     "text": [
      "C:\\Users\\PMac\\Anaconda3\\lib\\site-packages\\ipykernel_launcher.py:2: SettingWithCopyWarning: \nA value is trying to be set on a copy of a slice from a DataFrame.\nTry using .loc[row_indexer,col_indexer] = value instead\n\nSee the caveats in the documentation: http://pandas.pydata.org/pandas-docs/stable/indexing.html#indexing-view-versus-copy\n  \n"
     ]
    }
   ],
   "source": [
    "# It changes here because you assign it to a new dataframe\n",
    "df2 = bond[mask]\n",
    "df2['Actor'] = 'Sir Sean Connery'\n",
    "print(df2.head(10))"
   ]
  },
  {
   "cell_type": "code",
   "execution_count": 51,
   "metadata": {},
   "outputs": [
    {
     "name": "stdout",
     "output_type": "stream",
     "text": [
      "                       Year         Actor        Director  Box Office  Budget  \\\nFilm                                                                            \nDiamonds Are Forever   1971  Sean Connery    Guy Hamilton       442.5    34.7   \nDr. No                 1962  Sean Connery   Terence Young       448.8     7.0   \nFrom Russia with Love  1963  Sean Connery   Terence Young       543.8    12.6   \nGoldfinger             1964  Sean Connery    Guy Hamilton       820.4    18.6   \nNever Say Never Again  1983  Sean Connery  Irvin Kershner       380.0    86.0   \nThunderball            1965  Sean Connery   Terence Young       848.1    41.9   \nYou Only Live Twice    1967  Sean Connery   Lewis Gilbert       514.2    59.9   \n\n                       Bond Actor Salary  \nFilm                                      \nDiamonds Are Forever                 5.8  \nDr. No                               0.6  \nFrom Russia with Love                1.6  \nGoldfinger                           3.2  \nNever Say Never Again                NaN  \nThunderball                          4.7  \nYou Only Live Twice                  4.4  \n                       Year             Actor        Director  Box Office  \\\nFilm                                                                        \nDiamonds Are Forever   1971  Sir Sean Connery    Guy Hamilton       442.5   \nDr. No                 1962  Sir Sean Connery   Terence Young       448.8   \nFrom Russia with Love  1963  Sir Sean Connery   Terence Young       543.8   \nGoldfinger             1964  Sir Sean Connery    Guy Hamilton       820.4   \nNever Say Never Again  1983  Sir Sean Connery  Irvin Kershner       380.0   \nThunderball            1965  Sir Sean Connery   Terence Young       848.1   \nYou Only Live Twice    1967  Sir Sean Connery   Lewis Gilbert       514.2   \n\n                       Budget  Bond Actor Salary  \nFilm                                              \nDiamonds Are Forever     34.7                5.8  \nDr. No                    7.0                0.6  \nFrom Russia with Love    12.6                1.6  \nGoldfinger               18.6                3.2  \nNever Say Never Again    86.0                NaN  \nThunderball              41.9                4.7  \nYou Only Live Twice      59.9                4.4  \n"
     ]
    }
   ],
   "source": [
    "# Changes the values in the original dataframe\n",
    "\n",
    "print(bond.ix[mask])\n",
    "bond.ix[mask, 'Actor'] = 'Sir Sean Connery'\n",
    "print(bond.ix[mask])"
   ]
  },
  {
   "cell_type": "code",
   "execution_count": 52,
   "metadata": {},
   "outputs": [
    {
     "name": "stdout",
     "output_type": "stream",
     "text": [
      "                  Year         Actor         Director  Box Office  Budget  \\\nFilm                                                                        \nA View to a Kill  1985   Roger Moore        John Glen       275.2    54.5   \nCasino Royale     2006  Daniel Craig  Martin Campbell       581.5   145.3   \nCasino Royale     1967   David Niven       Ken Hughes       315.0    85.0   \n\n                  Bond Actor Salary  \nFilm                                 \nA View to a Kill                9.1  \nCasino Royale                   3.3  \nCasino Royale                   NaN  \n"
     ]
    }
   ],
   "source": [
    "bond = pd.read_csv('data/jamesbond.csv', index_col='Film')\n",
    "bond.sort_index(inplace=True)\n",
    "print(bond.head(3))"
   ]
  },
  {
   "cell_type": "code",
   "execution_count": 54,
   "metadata": {},
   "outputs": [
    {
     "name": "stdout",
     "output_type": "stream",
     "text": [
      "                  Release data         Actor         Director  Revenue  \\\nFilm                                                                     \nA View to a Kill          1985   Roger Moore        John Glen    275.2   \nCasino Royale             2006  Daniel Craig  Martin Campbell    581.5   \nCasino Royale             1967   David Niven       Ken Hughes    315.0   \n\n                  Budget  Bond Actor Salary  \nFilm                                         \nA View to a Kill    54.5                9.1  \nCasino Royale      145.3                3.3  \nCasino Royale       85.0                NaN  \n"
     ]
    }
   ],
   "source": [
    "# How to rename index labels of columns within dataframe. The key is the existing column name and the \n",
    "# value is the new column name\n",
    "bond.rename(columns={'Year': 'Release data', 'Box Office' : 'Revenue'}, inplace=True)\n",
    "print(bond.head(3))\n"
   ]
  },
  {
   "cell_type": "code",
   "execution_count": 56,
   "metadata": {},
   "outputs": [
    {
     "name": "stdout",
     "output_type": "stream",
     "text": [
      "                       Release data           Actor         Director  Revenue  \\\nFilm                                                                            \nA View to a Kill               1985     Roger Moore        John Glen    275.2   \nCasino Royale                  2006    Daniel Craig  Martin Campbell    581.5   \nCasino Royale                  1967     David Niven       Ken Hughes    315.0   \nDiamonds Are Forever           1971    Sean Connery     Guy Hamilton    442.5   \nDie Another Day                2002  Pierce Brosnan     Lee Tamahori    465.4   \nSr. Noo                        1962    Sean Connery    Terence Young    448.8   \nFor Your Eyes Only             1981     Roger Moore        John Glen    449.4   \nFrom Russia with Love          1963    Sean Connery    Terence Young    543.8   \nGolden Eye                     1995  Pierce Brosnan  Martin Campbell    518.5   \nGoldfinger                     1964    Sean Connery     Guy Hamilton    820.4   \n\n                       Budget  Bond Actor Salary  \nFilm                                              \nA View to a Kill         54.5                9.1  \nCasino Royale           145.3                3.3  \nCasino Royale            85.0                NaN  \nDiamonds Are Forever     34.7                5.8  \nDie Another Day         154.2               17.9  \nSr. Noo                   7.0                0.6  \nFor Your Eyes Only       60.2                NaN  \nFrom Russia with Love    12.6                1.6  \nGolden Eye               76.9                5.1  \nGoldfinger               18.6                3.2  \n"
     ]
    }
   ],
   "source": [
    "# rename index labels\n",
    "bond.rename(index = {'Dr. No': 'Sr. Noo', 'GoldenEye': 'Golden Eye'}, inplace=True)\n",
    "print(bond.head(10))"
   ]
  },
  {
   "cell_type": "code",
   "execution_count": 57,
   "metadata": {},
   "outputs": [
    {
     "data": {
      "text/plain": [
       "Index(['Release data', 'Actor', 'Director', 'Revenue', 'Budget',\n       'Bond Actor Salary'],\n      dtype='object')"
      ]
     },
     "execution_count": 57,
     "metadata": {},
     "output_type": "execute_result"
    }
   ],
   "source": [
    "bond.columns"
   ]
  },
  {
   "cell_type": "code",
   "execution_count": 60,
   "metadata": {},
   "outputs": [
    {
     "name": "stdout",
     "output_type": "stream",
     "text": [
      "                  Year of Release         Actor         Director  Gross  \\\nFilm                                                                      \nA View to a Kill             1985   Roger Moore        John Glen  275.2   \nCasino Royale                2006  Daniel Craig  Martin Campbell  581.5   \n\n                   Cost  Salary  \nFilm                             \nA View to a Kill   54.5     9.1  \nCasino Royale     145.3     3.3  \n"
     ]
    }
   ],
   "source": [
    "bond.columns = ['Year of Release', 'Actor', 'Director', 'Gross', 'Cost', 'Salary']\n",
    "print(bond.head(2))"
   ]
  },
  {
   "cell_type": "code",
   "execution_count": 65,
   "metadata": {},
   "outputs": [
    {
     "name": "stdout",
     "output_type": "stream",
     "text": [
      "                      Year         Actor         Director  Box Office  Budget  \\\nFilm                                                                            \nCasino Royale         2006  Daniel Craig  Martin Campbell       581.5   145.3   \nCasino Royale         1967   David Niven       Ken Hughes       315.0    85.0   \nDiamonds Are Forever  1971  Sean Connery     Guy Hamilton       442.5    34.7   \n\n                      Bond Actor Salary  \nFilm                                     \nCasino Royale                       3.3  \nCasino Royale                       NaN  \nDiamonds Are Forever                5.8  \n"
     ]
    }
   ],
   "source": [
    "# delete's a row\n",
    "\n",
    "bond.drop(\"A View to a Kill\", inplace= True)\n",
    "print(bond.head(3))"
   ]
  },
  {
   "cell_type": "code",
   "execution_count": 66,
   "metadata": {},
   "outputs": [],
   "source": [
    "bond = pd.read_csv('data/jamesbond.csv', index_col='Film')\n",
    "bond.sort_index(inplace=True)"
   ]
  },
  {
   "cell_type": "code",
   "execution_count": 68,
   "metadata": {},
   "outputs": [
    {
     "name": "stdout",
     "output_type": "stream",
     "text": [
      "                  Year        Actor   Director  Budget  Bond Actor Salary\nFilm                                                                     \nA View to a Kill  1985  Roger Moore  John Glen    54.5                9.1\n"
     ]
    }
   ],
   "source": [
    "# Drops Row. axis = 0 is for the rows. axis = 1 is for the columns\n",
    "# Can input list to drop multiple columns\n",
    "\n",
    "bond.drop('Box Office', axis = 1, inplace=True)\n",
    "print(bond.head(1))"
   ]
  },
  {
   "cell_type": "code",
   "execution_count": 71,
   "metadata": {},
   "outputs": [],
   "source": [
    "bond = pd.read_csv('data/jamesbond.csv', index_col='Film')\n",
    "bond.sort_index(inplace=True)"
   ]
  },
  {
   "cell_type": "code",
   "execution_count": 70,
   "metadata": {},
   "outputs": [
    {
     "name": "stdout",
     "output_type": "stream",
     "text": [
      "                  Year   Director  Box Office  Budget  Bond Actor Salary\nFilm                                                                    \nA View to a Kill  1985  John Glen       275.2    54.5                9.1\nFilm\nA View to a Kill    Roger Moore\nName: Actor, dtype: object\n"
     ]
    }
   ],
   "source": [
    "# removes the series but also returns it so it can be stored to a variable\n",
    "\n",
    "actor = bond.pop('Actor')\n",
    "print(bond.head(1))\n",
    "print(actor.head(1))"
   ]
  },
  {
   "cell_type": "code",
   "execution_count": 72,
   "metadata": {},
   "outputs": [],
   "source": [
    "bond = pd.read_csv('data/jamesbond.csv', index_col='Film')\n",
    "bond.sort_index(inplace=True)"
   ]
  },
  {
   "cell_type": "code",
   "execution_count": 74,
   "metadata": {},
   "outputs": [
    {
     "name": "stdout",
     "output_type": "stream",
     "text": [
      "                       Year         Actor        Director  Box Office  Budget  \\\nFilm                                                                            \nNever Say Never Again  1983  Sean Connery  Irvin Kershner       380.0    86.0   \n\n                       Bond Actor Salary  \nFilm                                      \nNever Say Never Again                NaN  \n"
     ]
    }
   ],
   "source": [
    "# How to extract a random sample\n",
    "print(bond.sample())"
   ]
  },
  {
   "cell_type": "code",
   "execution_count": 75,
   "metadata": {},
   "outputs": [
    {
     "name": "stdout",
     "output_type": "stream",
     "text": [
      "                             Year           Actor        Director  Box Office  \\\nFilm                                                                            \nThe Man with the Golden Gun  1974     Roger Moore    Guy Hamilton       334.0   \nCasino Royale                1967     David Niven      Ken Hughes       315.0   \nNever Say Never Again        1983    Sean Connery  Irvin Kershner       380.0   \nGoldfinger                   1964    Sean Connery    Guy Hamilton       820.4   \nThe World Is Not Enough      1999  Pierce Brosnan   Michael Apted       439.5   \n\n                             Budget  Bond Actor Salary  \nFilm                                                    \nThe Man with the Golden Gun    27.7                NaN  \nCasino Royale                  85.0                NaN  \nNever Say Never Again          86.0                NaN  \nGoldfinger                     18.6                3.2  \nThe World Is Not Enough       158.3               13.5  \n"
     ]
    }
   ],
   "source": [
    "# n is number of samples\n",
    "print(bond.sample(n=5))"
   ]
  },
  {
   "cell_type": "code",
   "execution_count": 76,
   "metadata": {},
   "outputs": [
    {
     "name": "stdout",
     "output_type": "stream",
     "text": [
      "                       Year           Actor            Director  Box Office  \\\nFilm                                                                          \nLicence to Kill        1989  Timothy Dalton           John Glen       250.9   \nDie Another Day        2002  Pierce Brosnan        Lee Tamahori       465.4   \nOctopussy              1983     Roger Moore           John Glen       373.8   \nNever Say Never Again  1983    Sean Connery      Irvin Kershner       380.0   \nTomorrow Never Dies    1997  Pierce Brosnan  Roger Spottiswoode       463.2   \nGoldfinger             1964    Sean Connery        Guy Hamilton       820.4   \n\n                       Budget  Bond Actor Salary  \nFilm                                              \nLicence to Kill          56.7                7.9  \nDie Another Day         154.2               17.9  \nOctopussy                53.9                7.8  \nNever Say Never Again    86.0                NaN  \nTomorrow Never Dies     133.9               10.0  \nGoldfinger               18.6                3.2  \n"
     ]
    }
   ],
   "source": [
    "# frac pulls a fraction of the dataframe\n",
    "\n",
    "print(bond.sample(frac=.25))"
   ]
  },
  {
   "cell_type": "code",
   "execution_count": 78,
   "metadata": {},
   "outputs": [
    {
     "name": "stdout",
     "output_type": "stream",
     "text": [
      "                      Budget  Year\nFilm                              \nA View to a Kill        54.5  1985\nCasino Royale          145.3  2006\nCasino Royale           85.0  1967\nDiamonds Are Forever    34.7  1971\nDie Another Day        154.2  2002\n"
     ]
    }
   ],
   "source": [
    "print(bond.sample(n=2, axis=1).head(5))"
   ]
  },
  {
   "cell_type": "code",
   "execution_count": 79,
   "metadata": {},
   "outputs": [],
   "source": [
    "bond = pd.read_csv('data/jamesbond.csv', index_col='Film')\n",
    "bond.sort_index(inplace=True)"
   ]
  },
  {
   "cell_type": "code",
   "execution_count": 81,
   "metadata": {},
   "outputs": [
    {
     "name": "stdout",
     "output_type": "stream",
     "text": [
      "             Year         Actor       Director  Box Office  Budget  \\\nFilm                                                                 \nSkyfall      2012  Daniel Craig     Sam Mendes       943.5   170.2   \nThunderball  1965  Sean Connery  Terence Young       848.1    41.9   \nGoldfinger   1964  Sean Connery   Guy Hamilton       820.4    18.6   \n\n             Bond Actor Salary  \nFilm                            \nSkyfall                   14.5  \nThunderball                4.7  \nGoldfinger                 3.2  \n"
     ]
    }
   ],
   "source": [
    "# Extract the largest or smallest values in a column.\n",
    "\n",
    "print(bond.nlargest(3, columns='Box Office'))"
   ]
  },
  {
   "cell_type": "code",
   "execution_count": 82,
   "metadata": {},
   "outputs": [
    {
     "name": "stdout",
     "output_type": "stream",
     "text": [
      "                                 Year           Actor       Director  \\\nFilm                                                                   \nLicence to Kill                  1989  Timothy Dalton      John Glen   \nA View to a Kill                 1985     Roger Moore      John Glen   \nOn Her Majesty's Secret Service  1969  George Lazenby  Peter R. Hunt   \n\n                                 Box Office  Budget  Bond Actor Salary  \nFilm                                                                    \nLicence to Kill                       250.9    56.7                7.9  \nA View to a Kill                      275.2    54.5                9.1  \nOn Her Majesty's Secret Service       291.5    37.3                0.6  \n"
     ]
    }
   ],
   "source": [
    "print(bond.nsmallest(3,'Box Office'))"
   ]
  },
  {
   "cell_type": "code",
   "execution_count": 83,
   "metadata": {},
   "outputs": [],
   "source": [
    "bond = pd.read_csv('data/jamesbond.csv', index_col='Film')\n",
    "bond.sort_index(inplace=True)"
   ]
  },
  {
   "cell_type": "code",
   "execution_count": 86,
   "metadata": {},
   "outputs": [
    {
     "name": "stdout",
     "output_type": "stream",
     "text": [
      "                    Year         Actor         Director  Box Office  Budget  \\\nFilm                                                                          \nA View to a Kill     NaN           NaN              NaN         NaN     NaN   \nCasino Royale     2006.0  Daniel Craig  Martin Campbell       581.5   145.3   \nCasino Royale        NaN           NaN              NaN         NaN     NaN   \n\n                  Bond Actor Salary  \nFilm                                 \nA View to a Kill                NaN  \nCasino Royale                   3.3  \nCasino Royale                   NaN  \n"
     ]
    }
   ],
   "source": [
    "# .where() accepts a boolean series. \n",
    "mask = bond['Actor'] == 'Daniel Craig'\n",
    "print(bond.where(mask).head(3))"
   ]
  },
  {
   "cell_type": "code",
   "execution_count": 89,
   "metadata": {},
   "outputs": [
    {
     "name": "stdout",
     "output_type": "stream",
     "text": [
      "                                   Year           Actor         Director  \\\nFilm                                                                       \nA View to a Kill                    NaN             NaN              NaN   \nCasino Royale                    2006.0    Daniel Craig  Martin Campbell   \nCasino Royale                       NaN             NaN              NaN   \nDiamonds Are Forever                NaN             NaN              NaN   \nDie Another Day                     NaN             NaN              NaN   \nDr. No                              NaN             NaN              NaN   \nFor Your Eyes Only                  NaN             NaN              NaN   \nFrom Russia with Love            1963.0    Sean Connery    Terence Young   \nGoldenEye                        1995.0  Pierce Brosnan  Martin Campbell   \nGoldfinger                       1964.0    Sean Connery     Guy Hamilton   \nLicence to Kill                     NaN             NaN              NaN   \nLive and Let Die                    NaN             NaN              NaN   \nMoonraker                        1979.0     Roger Moore    Lewis Gilbert   \nNever Say Never Again               NaN             NaN              NaN   \nOctopussy                           NaN             NaN              NaN   \nOn Her Majesty's Secret Service     NaN             NaN              NaN   \nQuantum of Solace                2008.0    Daniel Craig     Marc Forster   \nSkyfall                          2012.0    Daniel Craig       Sam Mendes   \nSpectre                          2015.0    Daniel Craig       Sam Mendes   \nThe Living Daylights                NaN             NaN              NaN   \nThe Man with the Golden Gun         NaN             NaN              NaN   \nThe Spy Who Loved Me             1977.0     Roger Moore    Lewis Gilbert   \nThe World Is Not Enough             NaN             NaN              NaN   \nThunderball                      1965.0    Sean Connery    Terence Young   \nTomorrow Never Dies                 NaN             NaN              NaN   \nYou Only Live Twice              1967.0    Sean Connery    Lewis Gilbert   \n\n                                 Box Office  Budget  Bond Actor Salary  \nFilm                                                                    \nA View to a Kill                        NaN     NaN                NaN  \nCasino Royale                         581.5   145.3                3.3  \nCasino Royale                           NaN     NaN                NaN  \nDiamonds Are Forever                    NaN     NaN                NaN  \nDie Another Day                         NaN     NaN                NaN  \nDr. No                                  NaN     NaN                NaN  \nFor Your Eyes Only                      NaN     NaN                NaN  \nFrom Russia with Love                 543.8    12.6                1.6  \nGoldenEye                             518.5    76.9                5.1  \nGoldfinger                            820.4    18.6                3.2  \nLicence to Kill                         NaN     NaN                NaN  \nLive and Let Die                        NaN     NaN                NaN  \nMoonraker                             535.0    91.5                NaN  \nNever Say Never Again                   NaN     NaN                NaN  \nOctopussy                               NaN     NaN                NaN  \nOn Her Majesty's Secret Service         NaN     NaN                NaN  \nQuantum of Solace                     514.2   181.4                8.1  \nSkyfall                               943.5   170.2               14.5  \nSpectre                               726.7   206.3                NaN  \nThe Living Daylights                    NaN     NaN                NaN  \nThe Man with the Golden Gun             NaN     NaN                NaN  \nThe Spy Who Loved Me                  533.0    45.1                NaN  \nThe World Is Not Enough                 NaN     NaN                NaN  \nThunderball                           848.1    41.9                4.7  \nTomorrow Never Dies                     NaN     NaN                NaN  \nYou Only Live Twice                   514.2    59.9                4.4  \n"
     ]
    }
   ],
   "source": [
    "print(bond.where(bond['Box Office'] > 500))"
   ]
  },
  {
   "cell_type": "code",
   "execution_count": 90,
   "metadata": {},
   "outputs": [],
   "source": [
    "bond = pd.read_csv('data/jamesbond.csv', index_col='Film')\n",
    "bond.sort_index(inplace=True)"
   ]
  },
  {
   "cell_type": "code",
   "execution_count": 92,
   "metadata": {},
   "outputs": [
    {
     "name": "stdout",
     "output_type": "stream",
     "text": [
      "                       Year         Actor        Director  Box Office  Budget  \\\nFilm                                                                            \nDiamonds Are Forever   1971  Sean Connery    Guy Hamilton       442.5    34.7   \nDr. No                 1962  Sean Connery   Terence Young       448.8     7.0   \nFrom Russia with Love  1963  Sean Connery   Terence Young       543.8    12.6   \nGoldfinger             1964  Sean Connery    Guy Hamilton       820.4    18.6   \nNever Say Never Again  1983  Sean Connery  Irvin Kershner       380.0    86.0   \nThunderball            1965  Sean Connery   Terence Young       848.1    41.9   \nYou Only Live Twice    1967  Sean Connery   Lewis Gilbert       514.2    59.9   \n\n                       Bond Actor Salary  \nFilm                                      \nDiamonds Are Forever                 5.8  \nDr. No                               0.6  \nFrom Russia with Love                1.6  \nGoldfinger                           3.2  \nNever Say Never Again                NaN  \nThunderball                          4.7  \nYou Only Live Twice                  4.4  \n"
     ]
    }
   ],
   "source": [
    "print(bond.query('Actor == \"Sean Connery\"'))"
   ]
  },
  {
   "cell_type": "code",
   "execution_count": 93,
   "metadata": {},
   "outputs": [
    {
     "name": "stdout",
     "output_type": "stream",
     "text": [
      "                                 Year           Actor            Director  \\\nFilm                                                                        \nCasino Royale                    2006    Daniel Craig     Martin Campbell   \nCasino Royale                    1967     David Niven          Ken Hughes   \nDiamonds Are Forever             1971    Sean Connery        Guy Hamilton   \nDie Another Day                  2002  Pierce Brosnan        Lee Tamahori   \nDr. No                           1962    Sean Connery       Terence Young   \nFrom Russia with Love            1963    Sean Connery       Terence Young   \nGoldenEye                        1995  Pierce Brosnan     Martin Campbell   \nGoldfinger                       1964    Sean Connery        Guy Hamilton   \nLicence to Kill                  1989  Timothy Dalton           John Glen   \nNever Say Never Again            1983    Sean Connery      Irvin Kershner   \nOn Her Majesty's Secret Service  1969  George Lazenby       Peter R. Hunt   \nQuantum of Solace                2008    Daniel Craig        Marc Forster   \nSkyfall                          2012    Daniel Craig          Sam Mendes   \nSpectre                          2015    Daniel Craig          Sam Mendes   \nThe Living Daylights             1987  Timothy Dalton           John Glen   \nThe World Is Not Enough          1999  Pierce Brosnan       Michael Apted   \nThunderball                      1965    Sean Connery       Terence Young   \nTomorrow Never Dies              1997  Pierce Brosnan  Roger Spottiswoode   \nYou Only Live Twice              1967    Sean Connery       Lewis Gilbert   \n\n                                 Box Office  Budget  Bond Actor Salary  \nFilm                                                                    \nCasino Royale                         581.5   145.3                3.3  \nCasino Royale                         315.0    85.0                NaN  \nDiamonds Are Forever                  442.5    34.7                5.8  \nDie Another Day                       465.4   154.2               17.9  \nDr. No                                448.8     7.0                0.6  \nFrom Russia with Love                 543.8    12.6                1.6  \nGoldenEye                             518.5    76.9                5.1  \nGoldfinger                            820.4    18.6                3.2  \nLicence to Kill                       250.9    56.7                7.9  \nNever Say Never Again                 380.0    86.0                NaN  \nOn Her Majesty's Secret Service       291.5    37.3                0.6  \nQuantum of Solace                     514.2   181.4                8.1  \nSkyfall                               943.5   170.2               14.5  \nSpectre                               726.7   206.3                NaN  \nThe Living Daylights                  313.5    68.8                5.2  \nThe World Is Not Enough               439.5   158.3               13.5  \nThunderball                           848.1    41.9                4.7  \nTomorrow Never Dies                   463.2   133.9               10.0  \nYou Only Live Twice                   514.2    59.9                4.4  \n"
     ]
    }
   ],
   "source": [
    "print(bond.query('Actor != \"Roger Moore\"'))"
   ]
  },
  {
   "cell_type": "code",
   "execution_count": 94,
   "metadata": {},
   "outputs": [
    {
     "name": "stdout",
     "output_type": "stream",
     "text": [
      "                             Year           Actor       Director  Box Office  \\\nFilm                                                                           \nA View to a Kill             1985     Roger Moore      John Glen       275.2   \nFor Your Eyes Only           1981     Roger Moore      John Glen       449.4   \nLicence to Kill              1989  Timothy Dalton      John Glen       250.9   \nLive and Let Die             1973     Roger Moore   Guy Hamilton       460.3   \nMoonraker                    1979     Roger Moore  Lewis Gilbert       535.0   \nOctopussy                    1983     Roger Moore      John Glen       373.8   \nThe Living Daylights         1987  Timothy Dalton      John Glen       313.5   \nThe Man with the Golden Gun  1974     Roger Moore   Guy Hamilton       334.0   \nThe Spy Who Loved Me         1977     Roger Moore  Lewis Gilbert       533.0   \n\n                             Budget  Bond Actor Salary  \nFilm                                                    \nA View to a Kill               54.5                9.1  \nFor Your Eyes Only             60.2                NaN  \nLicence to Kill                56.7                7.9  \nLive and Let Die               30.8                NaN  \nMoonraker                      91.5                NaN  \nOctopussy                      53.9                7.8  \nThe Living Daylights           68.8                5.2  \nThe Man with the Golden Gun    27.7                NaN  \nThe Spy Who Loved Me           45.1                NaN  \n"
     ]
    }
   ],
   "source": [
    "print(bond.query(\"Actor == 'Roger Moore' or Director == 'John Glen' \"))"
   ]
  },
  {
   "cell_type": "code",
   "execution_count": 95,
   "metadata": {},
   "outputs": [],
   "source": [
    "bond = pd.read_csv('data/jamesbond.csv', index_col='Film')\n",
    "bond.sort_index(inplace=True)"
   ]
  },
  {
   "cell_type": "code",
   "execution_count": 96,
   "metadata": {},
   "outputs": [
    {
     "name": "stdout",
     "output_type": "stream",
     "text": [
      "Film\nA View to a Kill                            John Glen\nCasino Royale                         Martin Campbell\nCasino Royale                              Ken Hughes\nDiamonds Are Forever                     Guy Hamilton\nDie Another Day                          Lee Tamahori\nDr. No                                  Terence Young\nFor Your Eyes Only                          John Glen\nFrom Russia with Love                   Terence Young\nGoldenEye                             Martin Campbell\nGoldfinger                               Guy Hamilton\nLicence to Kill                             John Glen\nLive and Let Die                         Guy Hamilton\nMoonraker                               Lewis Gilbert\nNever Say Never Again                  Irvin Kershner\nOctopussy                                   John Glen\nOn Her Majesty's Secret Service         Peter R. Hunt\nQuantum of Solace                        Marc Forster\nSkyfall                                    Sam Mendes\nSpectre                                    Sam Mendes\nThe Living Daylights                        John Glen\nThe Man with the Golden Gun              Guy Hamilton\nThe Spy Who Loved Me                    Lewis Gilbert\nThe World Is Not Enough                 Michael Apted\nThunderball                             Terence Young\nTomorrow Never Dies                Roger Spottiswoode\nYou Only Live Twice                     Lewis Gilbert\nName: Director, dtype: object\n"
     ]
    }
   ],
   "source": [
    "director = bond['Director'].copy()\n",
    "print(director)"
   ]
  },
  {
   "cell_type": "code",
   "execution_count": null,
   "metadata": {},
   "outputs": [],
   "source": []
  }
 ],
 "metadata": {
  "kernelspec": {
   "display_name": "Python 2",
   "language": "python",
   "name": "python2"
  },
  "language_info": {
   "codemirror_mode": {
    "name": "ipython",
    "version": 2
   },
   "file_extension": ".py",
   "mimetype": "text/x-python",
   "name": "python",
   "nbconvert_exporter": "python",
   "pygments_lexer": "ipython2",
   "version": "2.7.6"
  }
 },
 "nbformat": 4,
 "nbformat_minor": 0
}
